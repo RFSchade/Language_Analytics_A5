{
 "cells": [
  {
   "cell_type": "markdown",
   "id": "faca09f5-754d-4d36-a748-f00043e066f3",
   "metadata": {},
   "source": [
    "# Assignment Notebook"
   ]
  },
  {
   "cell_type": "markdown",
   "id": "ace8bf2a-0d57-456f-857b-de40c22b25ac",
   "metadata": {},
   "source": [
    "Loading modules"
   ]
  },
  {
   "cell_type": "code",
   "execution_count": 1,
   "id": "8812f959-38f1-496c-8a41-93e8452923d0",
   "metadata": {
    "execution": {
     "iopub.execute_input": "2022-05-21T16:00:49.568135Z",
     "iopub.status.busy": "2022-05-21T16:00:49.567298Z",
     "iopub.status.idle": "2022-05-21T16:00:52.888424Z",
     "shell.execute_reply": "2022-05-21T16:00:52.887646Z",
     "shell.execute_reply.started": "2022-05-21T16:00:49.568076Z"
    },
    "tags": []
   },
   "outputs": [
    {
     "name": "stderr",
     "output_type": "stream",
     "text": [
      "2022-05-21 18:00:50.132044: W tensorflow/stream_executor/platform/default/dso_loader.cc:64] Could not load dynamic library 'libcudart.so.11.0'; dlerror: libcudart.so.11.0: cannot open shared object file: No such file or directory\n",
      "2022-05-21 18:00:50.132092: I tensorflow/stream_executor/cuda/cudart_stub.cc:29] Ignore above cudart dlerror if you do not have a GPU set up on your machine.\n"
     ]
    }
   ],
   "source": [
    "# System tools\n",
    "import os\n",
    "\n",
    "# Data analysis\n",
    "import pandas as pd\n",
    "from collections import Counter\n",
    "from itertools import combinations \n",
    "from tqdm import tqdm\n",
    "\n",
    "# NLP\n",
    "import spacy\n",
    "nlp = spacy.load(\"en_core_web_sm\")\n",
    "\n",
    "# Network analysis tools\n",
    "import networkx as nx\n",
    "import matplotlib.pyplot as plt\n",
    "plt.rcParams[\"figure.figsize\"] = (20,20)\n",
    "\n",
    "# Regular expressions \n",
    "import re"
   ]
  },
  {
   "cell_type": "markdown",
   "id": "c33111ac-98ce-44c1-9c2f-ae80cdab427a",
   "metadata": {},
   "source": [
    "### Experimenting"
   ]
  },
  {
   "cell_type": "code",
   "execution_count": 3,
   "id": "aa23021a-540b-4c68-b0df-123208ce1d81",
   "metadata": {
    "execution": {
     "iopub.execute_input": "2022-05-11T10:43:35.343755Z",
     "iopub.status.busy": "2022-05-11T10:43:35.343094Z",
     "iopub.status.idle": "2022-05-11T10:43:35.349147Z",
     "shell.execute_reply": "2022-05-11T10:43:35.348034Z",
     "shell.execute_reply.started": "2022-05-11T10:43:35.343706Z"
    },
    "tags": []
   },
   "outputs": [],
   "source": [
    "# > Tried to load one dataset, but was \n",
    "# Get the filepath\n",
    "#filepath = os.path.join(\"in\", \"dblp.txt\")\n",
    "# Load data\n",
    "#y_test = pd.read_csv(filepath, header=None)"
   ]
  },
  {
   "cell_type": "code",
   "execution_count": 3,
   "id": "0f30ece1-28a1-46e7-b504-096147b3cd20",
   "metadata": {
    "execution": {
     "iopub.execute_input": "2022-05-21T16:11:20.774542Z",
     "iopub.status.busy": "2022-05-21T16:11:20.773870Z",
     "iopub.status.idle": "2022-05-21T16:11:20.804395Z",
     "shell.execute_reply": "2022-05-21T16:11:20.803525Z",
     "shell.execute_reply.started": "2022-05-21T16:11:20.774489Z"
    },
    "tags": []
   },
   "outputs": [],
   "source": [
    "# Get data  \n",
    "# Get the filepath\n",
    "filepath = os.path.join(\"in\", \"cit-HepPh.txt\")\n",
    "# Reading the filepath \n",
    "# data = pd.read_csv(filepath, sep='\\t')\n",
    "with open(filepath, \"r\") as f:\n",
    "    txt = f.read()"
   ]
  },
  {
   "cell_type": "code",
   "execution_count": 4,
   "id": "fbae0aa2-43e7-49fe-960a-9b832152a355",
   "metadata": {
    "execution": {
     "iopub.execute_input": "2022-05-21T16:11:22.539527Z",
     "iopub.status.busy": "2022-05-21T16:11:22.539096Z",
     "iopub.status.idle": "2022-05-21T16:11:22.544366Z",
     "shell.execute_reply": "2022-05-21T16:11:22.543505Z",
     "shell.execute_reply.started": "2022-05-21T16:11:22.539497Z"
    },
    "tags": []
   },
   "outputs": [
    {
     "name": "stdout",
     "output_type": "stream",
     "text": [
      "# Directed graph (each unordered pair of nodes is saved once): Cit-HepPh.txt \n",
      "# Paper citation network of Arxiv High Energy Physics category\n",
      "# Nodes: 34546 Edges: 421578\n",
      "# FromNodeId\tToNodeId\n",
      "9907233\t9301253\n",
      "9907233\t9504304\n",
      "9907233\t9505235\n",
      "9907233\t95\n"
     ]
    }
   ],
   "source": [
    "print(txt[:250])"
   ]
  },
  {
   "cell_type": "code",
   "execution_count": 5,
   "id": "48383cc7-5e68-43b3-8b59-fa9efe1d8fbd",
   "metadata": {
    "execution": {
     "iopub.execute_input": "2022-05-21T16:11:23.899243Z",
     "iopub.status.busy": "2022-05-21T16:11:23.898690Z",
     "iopub.status.idle": "2022-05-21T16:11:23.913115Z",
     "shell.execute_reply": "2022-05-21T16:11:23.912438Z",
     "shell.execute_reply.started": "2022-05-21T16:11:23.899177Z"
    },
    "tags": []
   },
   "outputs": [
    {
     "data": {
      "text/plain": [
       "['# Directed graph (each unordered pair of nodes is saved once): Cit-HepPh.txt ',\n",
       " '# Paper citation network of Arxiv High Energy Physics category',\n",
       " '# Nodes: 34546 Edges: 421578',\n",
       " '# FromNodeId\\tToNodeId']"
      ]
     },
     "execution_count": 5,
     "metadata": {},
     "output_type": "execute_result"
    }
   ],
   "source": [
    "txt.split(\"\\n\", 4)[:4]"
   ]
  },
  {
   "cell_type": "code",
   "execution_count": 6,
   "id": "d0ac3341-a18c-4dd4-a918-778e35f479ad",
   "metadata": {
    "execution": {
     "iopub.execute_input": "2022-05-21T16:11:24.940607Z",
     "iopub.status.busy": "2022-05-21T16:11:24.940178Z",
     "iopub.status.idle": "2022-05-21T16:11:24.947057Z",
     "shell.execute_reply": "2022-05-21T16:11:24.946181Z",
     "shell.execute_reply.started": "2022-05-21T16:11:24.940577Z"
    },
    "tags": []
   },
   "outputs": [],
   "source": [
    "txt_data = txt.split(\"\\n\", 4)[4]"
   ]
  },
  {
   "cell_type": "code",
   "execution_count": 7,
   "id": "7825e62a-7668-44d3-8388-8c9a0a8f2af9",
   "metadata": {
    "execution": {
     "iopub.execute_input": "2022-05-21T16:11:26.355668Z",
     "iopub.status.busy": "2022-05-21T16:11:26.355066Z",
     "iopub.status.idle": "2022-05-21T16:11:26.361666Z",
     "shell.execute_reply": "2022-05-21T16:11:26.360633Z",
     "shell.execute_reply.started": "2022-05-21T16:11:26.355627Z"
    },
    "tags": []
   },
   "outputs": [
    {
     "name": "stdout",
     "output_type": "stream",
     "text": [
      "9907233\t9301253\n",
      "9907233\t9504304\n",
      "9907233\t9505235\n",
      "9907233\t9506257\n",
      "9907233\t9606402\n",
      "9907233\t9607354\n",
      "9907\n"
     ]
    }
   ],
   "source": [
    "print(txt_data[:100])"
   ]
  },
  {
   "cell_type": "code",
   "execution_count": 31,
   "id": "1e05134b-094d-46e8-afee-0956c706e645",
   "metadata": {
    "execution": {
     "iopub.execute_input": "2022-05-11T12:57:58.693118Z",
     "iopub.status.busy": "2022-05-11T12:57:58.692608Z",
     "iopub.status.idle": "2022-05-11T12:57:58.808637Z",
     "shell.execute_reply": "2022-05-11T12:57:58.807362Z",
     "shell.execute_reply.started": "2022-05-11T12:57:58.693067Z"
    },
    "tags": []
   },
   "outputs": [],
   "source": [
    "outpath = os.path.join(\"in\", \"cit_HepPh_read.txt\")\n",
    "with open(outpath, \"w\") as f:\n",
    "    f.write(txt_data)"
   ]
  },
  {
   "cell_type": "code",
   "execution_count": 8,
   "id": "ae46d016-bdea-4a3a-9155-0dfb4d730a68",
   "metadata": {
    "execution": {
     "iopub.execute_input": "2022-05-21T16:35:18.519535Z",
     "iopub.status.busy": "2022-05-21T16:35:18.518920Z",
     "iopub.status.idle": "2022-05-21T16:35:18.617703Z",
     "shell.execute_reply": "2022-05-21T16:35:18.616983Z",
     "shell.execute_reply.started": "2022-05-21T16:35:18.519488Z"
    },
    "tags": []
   },
   "outputs": [],
   "source": [
    "# Get data  \n",
    "# Get the filepath\n",
    "filepath = os.path.join(\"in\", \"cit_HepPh_read.txt\")\n",
    "# Reading the filepath \n",
    "data = pd.read_csv(filepath, header = None, sep='\\t', names = (\"Source\", \"Target\"))"
   ]
  },
  {
   "cell_type": "code",
   "execution_count": null,
   "id": "b8713a3b-14e3-40d6-9b49-08910babb73f",
   "metadata": {},
   "outputs": [
    {
     "data": {
      "text/html": [
       "<div>\n",
       "<style scoped>\n",
       "    .dataframe tbody tr th:only-of-type {\n",
       "        vertical-align: middle;\n",
       "    }\n",
       "\n",
       "    .dataframe tbody tr th {\n",
       "        vertical-align: top;\n",
       "    }\n",
       "\n",
       "    .dataframe thead th {\n",
       "        text-align: right;\n",
       "    }\n",
       "</style>\n",
       "<table border=\"1\" class=\"dataframe\">\n",
       "  <thead>\n",
       "    <tr style=\"text-align: right;\">\n",
       "      <th></th>\n",
       "      <th>Source</th>\n",
       "      <th>Target</th>\n",
       "    </tr>\n",
       "  </thead>\n",
       "  <tbody>\n",
       "    <tr>\n",
       "      <th>0</th>\n",
       "      <td>9907233</td>\n",
       "      <td>9301253</td>\n",
       "    </tr>\n",
       "    <tr>\n",
       "      <th>1</th>\n",
       "      <td>9907233</td>\n",
       "      <td>9504304</td>\n",
       "    </tr>\n",
       "    <tr>\n",
       "      <th>2</th>\n",
       "      <td>9907233</td>\n",
       "      <td>9505235</td>\n",
       "    </tr>\n",
       "    <tr>\n",
       "      <th>3</th>\n",
       "      <td>9907233</td>\n",
       "      <td>9506257</td>\n",
       "    </tr>\n",
       "    <tr>\n",
       "      <th>4</th>\n",
       "      <td>9907233</td>\n",
       "      <td>9606402</td>\n",
       "    </tr>\n",
       "  </tbody>\n",
       "</table>\n",
       "</div>"
      ],
      "text/plain": [
       "    Source   Target\n",
       "0  9907233  9301253\n",
       "1  9907233  9504304\n",
       "2  9907233  9505235\n",
       "3  9907233  9506257\n",
       "4  9907233  9606402"
      ]
     },
     "execution_count": 10,
     "metadata": {},
     "output_type": "execute_result"
    }
   ],
   "source": [
    "data.head()"
   ]
  },
  {
   "cell_type": "markdown",
   "id": "514c39d7-231d-47e3-9ce8-f757add7288d",
   "metadata": {},
   "source": [
    "Count edges (directed)"
   ]
  },
  {
   "cell_type": "code",
   "execution_count": 15,
   "id": "c8999c59-81c7-4726-9ef1-785430b5bbc7",
   "metadata": {
    "execution": {
     "iopub.execute_input": "2022-05-21T16:41:59.658358Z",
     "iopub.status.busy": "2022-05-21T16:41:59.657721Z",
     "iopub.status.idle": "2022-05-21T16:41:59.666557Z",
     "shell.execute_reply": "2022-05-21T16:41:59.665658Z",
     "shell.execute_reply.started": "2022-05-21T16:41:59.658307Z"
    },
    "tags": []
   },
   "outputs": [],
   "source": [
    "# Create toy data\n",
    "l = [[\"A\", \"B\"], [\"A\", \"B\"], [\"B\", \"A\"], [\"C\", \"A\"], [\"C\", \"B\"], [\"B\", \"C\"], [\"A\", \"C\"]]\n",
    "toy_df = pd.DataFrame(l, columns=[\"source\", \"target\"])"
   ]
  },
  {
   "cell_type": "code",
   "execution_count": 17,
   "id": "91a25eba-a51c-4bee-bfaa-ac806f334de8",
   "metadata": {
    "execution": {
     "iopub.execute_input": "2022-05-21T16:42:18.611943Z",
     "iopub.status.busy": "2022-05-21T16:42:18.611298Z",
     "iopub.status.idle": "2022-05-21T16:42:18.623717Z",
     "shell.execute_reply": "2022-05-21T16:42:18.623127Z",
     "shell.execute_reply.started": "2022-05-21T16:42:18.611892Z"
    },
    "tags": []
   },
   "outputs": [
    {
     "data": {
      "text/html": [
       "<div>\n",
       "<style scoped>\n",
       "    .dataframe tbody tr th:only-of-type {\n",
       "        vertical-align: middle;\n",
       "    }\n",
       "\n",
       "    .dataframe tbody tr th {\n",
       "        vertical-align: top;\n",
       "    }\n",
       "\n",
       "    .dataframe thead th {\n",
       "        text-align: right;\n",
       "    }\n",
       "</style>\n",
       "<table border=\"1\" class=\"dataframe\">\n",
       "  <thead>\n",
       "    <tr style=\"text-align: right;\">\n",
       "      <th></th>\n",
       "      <th>source</th>\n",
       "      <th>target</th>\n",
       "    </tr>\n",
       "  </thead>\n",
       "  <tbody>\n",
       "    <tr>\n",
       "      <th>0</th>\n",
       "      <td>A</td>\n",
       "      <td>B</td>\n",
       "    </tr>\n",
       "    <tr>\n",
       "      <th>1</th>\n",
       "      <td>A</td>\n",
       "      <td>B</td>\n",
       "    </tr>\n",
       "    <tr>\n",
       "      <th>2</th>\n",
       "      <td>B</td>\n",
       "      <td>A</td>\n",
       "    </tr>\n",
       "    <tr>\n",
       "      <th>3</th>\n",
       "      <td>C</td>\n",
       "      <td>A</td>\n",
       "    </tr>\n",
       "    <tr>\n",
       "      <th>4</th>\n",
       "      <td>C</td>\n",
       "      <td>B</td>\n",
       "    </tr>\n",
       "  </tbody>\n",
       "</table>\n",
       "</div>"
      ],
      "text/plain": [
       "  source target\n",
       "0      A      B\n",
       "1      A      B\n",
       "2      B      A\n",
       "3      C      A\n",
       "4      C      B"
      ]
     },
     "execution_count": 17,
     "metadata": {},
     "output_type": "execute_result"
    }
   ],
   "source": [
    "toy_df.head()"
   ]
  },
  {
   "cell_type": "code",
   "execution_count": 22,
   "id": "76d58ae5-c97e-4a9d-a59c-6fd4cab64a59",
   "metadata": {
    "execution": {
     "iopub.execute_input": "2022-05-21T16:45:15.036550Z",
     "iopub.status.busy": "2022-05-21T16:45:15.036045Z",
     "iopub.status.idle": "2022-05-21T16:45:15.051061Z",
     "shell.execute_reply": "2022-05-21T16:45:15.050441Z",
     "shell.execute_reply.started": "2022-05-21T16:45:15.036514Z"
    },
    "tags": []
   },
   "outputs": [
    {
     "data": {
      "text/html": [
       "<div>\n",
       "<style scoped>\n",
       "    .dataframe tbody tr th:only-of-type {\n",
       "        vertical-align: middle;\n",
       "    }\n",
       "\n",
       "    .dataframe tbody tr th {\n",
       "        vertical-align: top;\n",
       "    }\n",
       "\n",
       "    .dataframe thead th {\n",
       "        text-align: right;\n",
       "    }\n",
       "</style>\n",
       "<table border=\"1\" class=\"dataframe\">\n",
       "  <thead>\n",
       "    <tr style=\"text-align: right;\">\n",
       "      <th></th>\n",
       "      <th>source</th>\n",
       "      <th>target</th>\n",
       "      <th>count</th>\n",
       "    </tr>\n",
       "  </thead>\n",
       "  <tbody>\n",
       "    <tr>\n",
       "      <th>0</th>\n",
       "      <td>A</td>\n",
       "      <td>B</td>\n",
       "      <td>2</td>\n",
       "    </tr>\n",
       "    <tr>\n",
       "      <th>1</th>\n",
       "      <td>A</td>\n",
       "      <td>C</td>\n",
       "      <td>1</td>\n",
       "    </tr>\n",
       "    <tr>\n",
       "      <th>2</th>\n",
       "      <td>B</td>\n",
       "      <td>A</td>\n",
       "      <td>1</td>\n",
       "    </tr>\n",
       "    <tr>\n",
       "      <th>3</th>\n",
       "      <td>B</td>\n",
       "      <td>C</td>\n",
       "      <td>1</td>\n",
       "    </tr>\n",
       "    <tr>\n",
       "      <th>4</th>\n",
       "      <td>C</td>\n",
       "      <td>A</td>\n",
       "      <td>1</td>\n",
       "    </tr>\n",
       "    <tr>\n",
       "      <th>5</th>\n",
       "      <td>C</td>\n",
       "      <td>B</td>\n",
       "      <td>1</td>\n",
       "    </tr>\n",
       "  </tbody>\n",
       "</table>\n",
       "</div>"
      ],
      "text/plain": [
       "  source target  count\n",
       "0      A      B      2\n",
       "1      A      C      1\n",
       "2      B      A      1\n",
       "3      B      C      1\n",
       "4      C      A      1\n",
       "5      C      B      1"
      ]
     },
     "execution_count": 22,
     "metadata": {},
     "output_type": "execute_result"
    }
   ],
   "source": [
    "toy_df.value_counts().reset_index(name='count')"
   ]
  },
  {
   "cell_type": "code",
   "execution_count": 24,
   "id": "51b4285b-b3dc-4cbe-b292-9bb70f71869f",
   "metadata": {
    "execution": {
     "iopub.execute_input": "2022-05-21T16:45:23.837423Z",
     "iopub.status.busy": "2022-05-21T16:45:23.836862Z",
     "iopub.status.idle": "2022-05-21T16:45:23.848429Z",
     "shell.execute_reply": "2022-05-21T16:45:23.847680Z",
     "shell.execute_reply.started": "2022-05-21T16:45:23.837381Z"
    },
    "tags": []
   },
   "outputs": [
    {
     "data": {
      "text/html": [
       "<div>\n",
       "<style scoped>\n",
       "    .dataframe tbody tr th:only-of-type {\n",
       "        vertical-align: middle;\n",
       "    }\n",
       "\n",
       "    .dataframe tbody tr th {\n",
       "        vertical-align: top;\n",
       "    }\n",
       "\n",
       "    .dataframe thead th {\n",
       "        text-align: right;\n",
       "    }\n",
       "</style>\n",
       "<table border=\"1\" class=\"dataframe\">\n",
       "  <thead>\n",
       "    <tr style=\"text-align: right;\">\n",
       "      <th></th>\n",
       "      <th>Source</th>\n",
       "      <th>Target</th>\n",
       "    </tr>\n",
       "  </thead>\n",
       "  <tbody>\n",
       "    <tr>\n",
       "      <th>0</th>\n",
       "      <td>9907233</td>\n",
       "      <td>9301253</td>\n",
       "    </tr>\n",
       "    <tr>\n",
       "      <th>1</th>\n",
       "      <td>9907233</td>\n",
       "      <td>9504304</td>\n",
       "    </tr>\n",
       "    <tr>\n",
       "      <th>2</th>\n",
       "      <td>9907233</td>\n",
       "      <td>9505235</td>\n",
       "    </tr>\n",
       "    <tr>\n",
       "      <th>3</th>\n",
       "      <td>9907233</td>\n",
       "      <td>9506257</td>\n",
       "    </tr>\n",
       "    <tr>\n",
       "      <th>4</th>\n",
       "      <td>9907233</td>\n",
       "      <td>9606402</td>\n",
       "    </tr>\n",
       "  </tbody>\n",
       "</table>\n",
       "</div>"
      ],
      "text/plain": [
       "    Source   Target\n",
       "0  9907233  9301253\n",
       "1  9907233  9504304\n",
       "2  9907233  9505235\n",
       "3  9907233  9506257\n",
       "4  9907233  9606402"
      ]
     },
     "execution_count": 24,
     "metadata": {},
     "output_type": "execute_result"
    }
   ],
   "source": [
    "data.head()"
   ]
  },
  {
   "cell_type": "code",
   "execution_count": 53,
   "id": "f15564f1-1ea9-4ba6-a3d2-183fe784cc28",
   "metadata": {
    "execution": {
     "iopub.execute_input": "2022-05-21T17:05:35.075356Z",
     "iopub.status.busy": "2022-05-21T17:05:35.074631Z",
     "iopub.status.idle": "2022-05-21T17:05:35.211888Z",
     "shell.execute_reply": "2022-05-21T17:05:35.210660Z",
     "shell.execute_reply.started": "2022-05-21T17:05:35.075310Z"
    },
    "tags": []
   },
   "outputs": [],
   "source": [
    "new_data = data.value_counts().reset_index(name='Weights')"
   ]
  },
  {
   "cell_type": "code",
   "execution_count": 33,
   "id": "b3406f0a-a9ee-451d-8c2f-a63bd5db3a62",
   "metadata": {
    "execution": {
     "iopub.execute_input": "2022-05-21T16:49:44.383569Z",
     "iopub.status.busy": "2022-05-21T16:49:44.383010Z",
     "iopub.status.idle": "2022-05-21T16:49:44.392332Z",
     "shell.execute_reply": "2022-05-21T16:49:44.391616Z",
     "shell.execute_reply.started": "2022-05-21T16:49:44.383517Z"
    },
    "tags": []
   },
   "outputs": [
    {
     "data": {
      "text/html": [
       "<div>\n",
       "<style scoped>\n",
       "    .dataframe tbody tr th:only-of-type {\n",
       "        vertical-align: middle;\n",
       "    }\n",
       "\n",
       "    .dataframe tbody tr th {\n",
       "        vertical-align: top;\n",
       "    }\n",
       "\n",
       "    .dataframe thead th {\n",
       "        text-align: right;\n",
       "    }\n",
       "</style>\n",
       "<table border=\"1\" class=\"dataframe\">\n",
       "  <thead>\n",
       "    <tr style=\"text-align: right;\">\n",
       "      <th></th>\n",
       "      <th>Source</th>\n",
       "      <th>Target</th>\n",
       "      <th>count</th>\n",
       "    </tr>\n",
       "  </thead>\n",
       "  <tbody>\n",
       "    <tr>\n",
       "      <th>0</th>\n",
       "      <td>1001</td>\n",
       "      <td>9212308</td>\n",
       "      <td>1</td>\n",
       "    </tr>\n",
       "    <tr>\n",
       "      <th>1</th>\n",
       "      <td>9701370</td>\n",
       "      <td>9607362</td>\n",
       "      <td>1</td>\n",
       "    </tr>\n",
       "    <tr>\n",
       "      <th>2</th>\n",
       "      <td>9701371</td>\n",
       "      <td>9606390</td>\n",
       "      <td>1</td>\n",
       "    </tr>\n",
       "    <tr>\n",
       "      <th>3</th>\n",
       "      <td>9701371</td>\n",
       "      <td>9605411</td>\n",
       "      <td>1</td>\n",
       "    </tr>\n",
       "    <tr>\n",
       "      <th>4</th>\n",
       "      <td>9701371</td>\n",
       "      <td>9510449</td>\n",
       "      <td>1</td>\n",
       "    </tr>\n",
       "  </tbody>\n",
       "</table>\n",
       "</div>"
      ],
      "text/plain": [
       "    Source   Target  count\n",
       "0     1001  9212308      1\n",
       "1  9701370  9607362      1\n",
       "2  9701371  9606390      1\n",
       "3  9701371  9605411      1\n",
       "4  9701371  9510449      1"
      ]
     },
     "execution_count": 33,
     "metadata": {},
     "output_type": "execute_result"
    }
   ],
   "source": [
    "new_data.head()"
   ]
  },
  {
   "cell_type": "code",
   "execution_count": 39,
   "id": "f4f17040-311d-47d3-8d3e-73c24fc77c33",
   "metadata": {
    "execution": {
     "iopub.execute_input": "2022-05-21T16:52:01.556390Z",
     "iopub.status.busy": "2022-05-21T16:52:01.556006Z",
     "iopub.status.idle": "2022-05-21T16:52:01.565548Z",
     "shell.execute_reply": "2022-05-21T16:52:01.564910Z",
     "shell.execute_reply.started": "2022-05-21T16:52:01.556361Z"
    },
    "tags": []
   },
   "outputs": [
    {
     "data": {
      "text/plain": [
       "array([1])"
      ]
     },
     "execution_count": 39,
     "metadata": {},
     "output_type": "execute_result"
    }
   ],
   "source": [
    "new_data[\"count\"].unique()"
   ]
  },
  {
   "cell_type": "markdown",
   "id": "5b29cc36-b2b8-4c21-b626-59123de54838",
   "metadata": {},
   "source": [
    "I quess it does make sense for there to be no repeat values - it would make no sense for an article to make the same citation twice"
   ]
  },
  {
   "cell_type": "code",
   "execution_count": 40,
   "id": "e9384b17-0b89-4971-83d0-103463916584",
   "metadata": {
    "execution": {
     "iopub.execute_input": "2022-05-21T16:54:15.770660Z",
     "iopub.status.busy": "2022-05-21T16:54:15.770013Z",
     "iopub.status.idle": "2022-05-21T16:54:15.913744Z",
     "shell.execute_reply": "2022-05-21T16:54:15.913088Z",
     "shell.execute_reply.started": "2022-05-21T16:54:15.770611Z"
    },
    "tags": []
   },
   "outputs": [],
   "source": [
    "new_new_data = data.groupby(['Source','Target']).size().reset_index().rename(columns={0:'count'})"
   ]
  },
  {
   "cell_type": "code",
   "execution_count": 42,
   "id": "6994b337-577d-4134-9d56-0e5c277fff33",
   "metadata": {
    "execution": {
     "iopub.execute_input": "2022-05-21T16:55:24.341031Z",
     "iopub.status.busy": "2022-05-21T16:55:24.340471Z",
     "iopub.status.idle": "2022-05-21T16:55:24.353867Z",
     "shell.execute_reply": "2022-05-21T16:55:24.353255Z",
     "shell.execute_reply.started": "2022-05-21T16:55:24.340981Z"
    },
    "tags": []
   },
   "outputs": [
    {
     "data": {
      "text/html": [
       "<div>\n",
       "<style scoped>\n",
       "    .dataframe tbody tr th:only-of-type {\n",
       "        vertical-align: middle;\n",
       "    }\n",
       "\n",
       "    .dataframe tbody tr th {\n",
       "        vertical-align: top;\n",
       "    }\n",
       "\n",
       "    .dataframe thead th {\n",
       "        text-align: right;\n",
       "    }\n",
       "</style>\n",
       "<table border=\"1\" class=\"dataframe\">\n",
       "  <thead>\n",
       "    <tr style=\"text-align: right;\">\n",
       "      <th></th>\n",
       "      <th>Source</th>\n",
       "      <th>Target</th>\n",
       "      <th>count</th>\n",
       "    </tr>\n",
       "  </thead>\n",
       "  <tbody>\n",
       "    <tr>\n",
       "      <th>0</th>\n",
       "      <td>1001</td>\n",
       "      <td>9212308</td>\n",
       "      <td>1</td>\n",
       "    </tr>\n",
       "    <tr>\n",
       "      <th>1</th>\n",
       "      <td>1001</td>\n",
       "      <td>9305239</td>\n",
       "      <td>1</td>\n",
       "    </tr>\n",
       "    <tr>\n",
       "      <th>2</th>\n",
       "      <td>1001</td>\n",
       "      <td>9306240</td>\n",
       "      <td>1</td>\n",
       "    </tr>\n",
       "    <tr>\n",
       "      <th>3</th>\n",
       "      <td>1001</td>\n",
       "      <td>9312276</td>\n",
       "      <td>1</td>\n",
       "    </tr>\n",
       "    <tr>\n",
       "      <th>4</th>\n",
       "      <td>1001</td>\n",
       "      <td>9312333</td>\n",
       "      <td>1</td>\n",
       "    </tr>\n",
       "  </tbody>\n",
       "</table>\n",
       "</div>"
      ],
      "text/plain": [
       "   Source   Target  count\n",
       "0    1001  9212308      1\n",
       "1    1001  9305239      1\n",
       "2    1001  9306240      1\n",
       "3    1001  9312276      1\n",
       "4    1001  9312333      1"
      ]
     },
     "execution_count": 42,
     "metadata": {},
     "output_type": "execute_result"
    }
   ],
   "source": [
    "new_new_data.head()"
   ]
  },
  {
   "cell_type": "code",
   "execution_count": 45,
   "id": "925e42ff-eb3c-4e6e-84e1-3c7416a4ec39",
   "metadata": {
    "execution": {
     "iopub.execute_input": "2022-05-21T16:56:21.063526Z",
     "iopub.status.busy": "2022-05-21T16:56:21.062850Z",
     "iopub.status.idle": "2022-05-21T16:56:21.078285Z",
     "shell.execute_reply": "2022-05-21T16:56:21.077616Z",
     "shell.execute_reply.started": "2022-05-21T16:56:21.063482Z"
    },
    "tags": []
   },
   "outputs": [
    {
     "data": {
      "text/html": [
       "<div>\n",
       "<style scoped>\n",
       "    .dataframe tbody tr th:only-of-type {\n",
       "        vertical-align: middle;\n",
       "    }\n",
       "\n",
       "    .dataframe tbody tr th {\n",
       "        vertical-align: top;\n",
       "    }\n",
       "\n",
       "    .dataframe thead th {\n",
       "        text-align: right;\n",
       "    }\n",
       "</style>\n",
       "<table border=\"1\" class=\"dataframe\">\n",
       "  <thead>\n",
       "    <tr style=\"text-align: right;\">\n",
       "      <th></th>\n",
       "      <th>source</th>\n",
       "      <th>target</th>\n",
       "      <th>0</th>\n",
       "    </tr>\n",
       "  </thead>\n",
       "  <tbody>\n",
       "    <tr>\n",
       "      <th>0</th>\n",
       "      <td>A</td>\n",
       "      <td>B</td>\n",
       "      <td>2</td>\n",
       "    </tr>\n",
       "    <tr>\n",
       "      <th>1</th>\n",
       "      <td>A</td>\n",
       "      <td>C</td>\n",
       "      <td>1</td>\n",
       "    </tr>\n",
       "    <tr>\n",
       "      <th>2</th>\n",
       "      <td>B</td>\n",
       "      <td>A</td>\n",
       "      <td>1</td>\n",
       "    </tr>\n",
       "    <tr>\n",
       "      <th>3</th>\n",
       "      <td>B</td>\n",
       "      <td>C</td>\n",
       "      <td>1</td>\n",
       "    </tr>\n",
       "    <tr>\n",
       "      <th>4</th>\n",
       "      <td>C</td>\n",
       "      <td>A</td>\n",
       "      <td>1</td>\n",
       "    </tr>\n",
       "    <tr>\n",
       "      <th>5</th>\n",
       "      <td>C</td>\n",
       "      <td>B</td>\n",
       "      <td>1</td>\n",
       "    </tr>\n",
       "  </tbody>\n",
       "</table>\n",
       "</div>"
      ],
      "text/plain": [
       "  source target  0\n",
       "0      A      B  2\n",
       "1      A      C  1\n",
       "2      B      A  1\n",
       "3      B      C  1\n",
       "4      C      A  1\n",
       "5      C      B  1"
      ]
     },
     "execution_count": 45,
     "metadata": {},
     "output_type": "execute_result"
    }
   ],
   "source": [
    "toy_df.groupby(['source','target']).size().reset_index()"
   ]
  },
  {
   "cell_type": "code",
   "execution_count": 32,
   "id": "4824521e-6d2d-4864-b64f-b7d394409732",
   "metadata": {
    "execution": {
     "iopub.execute_input": "2022-05-21T16:48:03.913280Z",
     "iopub.status.busy": "2022-05-21T16:48:03.912587Z",
     "iopub.status.idle": "2022-05-21T16:48:03.925875Z",
     "shell.execute_reply": "2022-05-21T16:48:03.924801Z",
     "shell.execute_reply.started": "2022-05-21T16:48:03.913231Z"
    }
   },
   "outputs": [
    {
     "data": {
      "text/html": [
       "<div>\n",
       "<style scoped>\n",
       "    .dataframe tbody tr th:only-of-type {\n",
       "        vertical-align: middle;\n",
       "    }\n",
       "\n",
       "    .dataframe tbody tr th {\n",
       "        vertical-align: top;\n",
       "    }\n",
       "\n",
       "    .dataframe thead th {\n",
       "        text-align: right;\n",
       "    }\n",
       "</style>\n",
       "<table border=\"1\" class=\"dataframe\">\n",
       "  <thead>\n",
       "    <tr style=\"text-align: right;\">\n",
       "      <th></th>\n",
       "      <th>Source</th>\n",
       "      <th>Target</th>\n",
       "    </tr>\n",
       "  </thead>\n",
       "  <tbody>\n",
       "    <tr>\n",
       "      <th>117195</th>\n",
       "      <td>207185</td>\n",
       "      <td>9907233</td>\n",
       "    </tr>\n",
       "    <tr>\n",
       "      <th>143185</th>\n",
       "      <td>2193</td>\n",
       "      <td>9907233</td>\n",
       "    </tr>\n",
       "    <tr>\n",
       "      <th>393280</th>\n",
       "      <td>111281</td>\n",
       "      <td>9907233</td>\n",
       "    </tr>\n",
       "  </tbody>\n",
       "</table>\n",
       "</div>"
      ],
      "text/plain": [
       "        Source   Target\n",
       "117195  207185  9907233\n",
       "143185    2193  9907233\n",
       "393280  111281  9907233"
      ]
     },
     "execution_count": 32,
     "metadata": {},
     "output_type": "execute_result"
    }
   ],
   "source": [
    "subset_data"
   ]
  },
  {
   "cell_type": "code",
   "execution_count": 47,
   "id": "9501275f-8ba2-49a7-81af-a98ecc9f57ab",
   "metadata": {
    "execution": {
     "iopub.execute_input": "2022-05-21T16:57:09.587758Z",
     "iopub.status.busy": "2022-05-21T16:57:09.587137Z",
     "iopub.status.idle": "2022-05-21T16:57:09.598987Z",
     "shell.execute_reply": "2022-05-21T16:57:09.598275Z",
     "shell.execute_reply.started": "2022-05-21T16:57:09.587710Z"
    },
    "tags": []
   },
   "outputs": [],
   "source": [
    "new_data.insert(1, \"Type\", \"directed\")"
   ]
  },
  {
   "cell_type": "code",
   "execution_count": 48,
   "id": "3489fb71-78e8-432a-9938-675f4810043d",
   "metadata": {
    "execution": {
     "iopub.execute_input": "2022-05-21T16:57:15.714956Z",
     "iopub.status.busy": "2022-05-21T16:57:15.714350Z",
     "iopub.status.idle": "2022-05-21T16:57:15.730147Z",
     "shell.execute_reply": "2022-05-21T16:57:15.729132Z",
     "shell.execute_reply.started": "2022-05-21T16:57:15.714906Z"
    }
   },
   "outputs": [
    {
     "data": {
      "text/html": [
       "<div>\n",
       "<style scoped>\n",
       "    .dataframe tbody tr th:only-of-type {\n",
       "        vertical-align: middle;\n",
       "    }\n",
       "\n",
       "    .dataframe tbody tr th {\n",
       "        vertical-align: top;\n",
       "    }\n",
       "\n",
       "    .dataframe thead th {\n",
       "        text-align: right;\n",
       "    }\n",
       "</style>\n",
       "<table border=\"1\" class=\"dataframe\">\n",
       "  <thead>\n",
       "    <tr style=\"text-align: right;\">\n",
       "      <th></th>\n",
       "      <th>Source</th>\n",
       "      <th>Type</th>\n",
       "      <th>Target</th>\n",
       "      <th>count</th>\n",
       "    </tr>\n",
       "  </thead>\n",
       "  <tbody>\n",
       "    <tr>\n",
       "      <th>0</th>\n",
       "      <td>1001</td>\n",
       "      <td>directed</td>\n",
       "      <td>9212308</td>\n",
       "      <td>1</td>\n",
       "    </tr>\n",
       "    <tr>\n",
       "      <th>1</th>\n",
       "      <td>9701370</td>\n",
       "      <td>directed</td>\n",
       "      <td>9607362</td>\n",
       "      <td>1</td>\n",
       "    </tr>\n",
       "    <tr>\n",
       "      <th>2</th>\n",
       "      <td>9701371</td>\n",
       "      <td>directed</td>\n",
       "      <td>9606390</td>\n",
       "      <td>1</td>\n",
       "    </tr>\n",
       "    <tr>\n",
       "      <th>3</th>\n",
       "      <td>9701371</td>\n",
       "      <td>directed</td>\n",
       "      <td>9605411</td>\n",
       "      <td>1</td>\n",
       "    </tr>\n",
       "    <tr>\n",
       "      <th>4</th>\n",
       "      <td>9701371</td>\n",
       "      <td>directed</td>\n",
       "      <td>9510449</td>\n",
       "      <td>1</td>\n",
       "    </tr>\n",
       "  </tbody>\n",
       "</table>\n",
       "</div>"
      ],
      "text/plain": [
       "    Source      Type   Target  count\n",
       "0     1001  directed  9212308      1\n",
       "1  9701370  directed  9607362      1\n",
       "2  9701371  directed  9606390      1\n",
       "3  9701371  directed  9605411      1\n",
       "4  9701371  directed  9510449      1"
      ]
     },
     "execution_count": 48,
     "metadata": {},
     "output_type": "execute_result"
    }
   ],
   "source": [
    "new_data.head()"
   ]
  },
  {
   "cell_type": "markdown",
   "id": "2474f474-12e9-4dc1-a324-bbcb84e66cf0",
   "metadata": {},
   "source": [
    "Making a graph now I guess"
   ]
  },
  {
   "cell_type": "code",
   "execution_count": 54,
   "id": "3716fec5-3593-4c73-8464-2857b244dec3",
   "metadata": {
    "execution": {
     "iopub.execute_input": "2022-05-21T17:05:44.463237Z",
     "iopub.status.busy": "2022-05-21T17:05:44.462259Z",
     "iopub.status.idle": "2022-05-21T17:05:45.557742Z",
     "shell.execute_reply": "2022-05-21T17:05:45.556804Z",
     "shell.execute_reply.started": "2022-05-21T17:05:44.463175Z"
    },
    "tags": []
   },
   "outputs": [],
   "source": [
    "G = nx.from_pandas_edgelist(new_data, \"Source\", \"Target\", [\"Weights\"])"
   ]
  },
  {
   "cell_type": "code",
   "execution_count": 55,
   "id": "bb4929e9-f41a-4cb2-8477-381160fb7f3c",
   "metadata": {
    "execution": {
     "iopub.execute_input": "2022-05-21T17:05:46.444655Z",
     "iopub.status.busy": "2022-05-21T17:05:46.444033Z",
     "iopub.status.idle": "2022-05-21T17:05:47.907901Z",
     "shell.execute_reply": "2022-05-21T17:05:47.906899Z",
     "shell.execute_reply.started": "2022-05-21T17:05:46.444605Z"
    },
    "tags": []
   },
   "outputs": [
    {
     "ename": "AttributeError",
     "evalue": "module 'scipy.sparse' has no attribute 'coo_array'",
     "output_type": "error",
     "traceback": [
      "\u001b[0;31m---------------------------------------------------------------------------\u001b[0m",
      "\u001b[0;31mAttributeError\u001b[0m                            Traceback (most recent call last)",
      "\u001b[0;32m/tmp/ipykernel_630/2007094276.py\u001b[0m in \u001b[0;36m<module>\u001b[0;34m\u001b[0m\n\u001b[0;32m----> 1\u001b[0;31m \u001b[0mnx\u001b[0m\u001b[0;34m.\u001b[0m\u001b[0mdraw_networkx\u001b[0m\u001b[0;34m(\u001b[0m\u001b[0mG\u001b[0m\u001b[0;34m,\u001b[0m \u001b[0mwith_labels\u001b[0m\u001b[0;34m=\u001b[0m\u001b[0;32mTrue\u001b[0m\u001b[0;34m,\u001b[0m \u001b[0mnode_size\u001b[0m\u001b[0;34m=\u001b[0m\u001b[0;36m20\u001b[0m\u001b[0;34m,\u001b[0m \u001b[0mfont_size\u001b[0m\u001b[0;34m=\u001b[0m\u001b[0;36m10\u001b[0m\u001b[0;34m)\u001b[0m\u001b[0;34m\u001b[0m\u001b[0;34m\u001b[0m\u001b[0m\n\u001b[0m",
      "\u001b[0;32m/opt/conda/lib/python3.9/site-packages/networkx/drawing/nx_pylab.py\u001b[0m in \u001b[0;36mdraw_networkx\u001b[0;34m(G, pos, arrows, with_labels, **kwds)\u001b[0m\n\u001b[1;32m    331\u001b[0m \u001b[0;34m\u001b[0m\u001b[0m\n\u001b[1;32m    332\u001b[0m     \u001b[0;32mif\u001b[0m \u001b[0mpos\u001b[0m \u001b[0;32mis\u001b[0m \u001b[0;32mNone\u001b[0m\u001b[0;34m:\u001b[0m\u001b[0;34m\u001b[0m\u001b[0;34m\u001b[0m\u001b[0m\n\u001b[0;32m--> 333\u001b[0;31m         \u001b[0mpos\u001b[0m \u001b[0;34m=\u001b[0m \u001b[0mnx\u001b[0m\u001b[0;34m.\u001b[0m\u001b[0mdrawing\u001b[0m\u001b[0;34m.\u001b[0m\u001b[0mspring_layout\u001b[0m\u001b[0;34m(\u001b[0m\u001b[0mG\u001b[0m\u001b[0;34m)\u001b[0m  \u001b[0;31m# default to spring layout\u001b[0m\u001b[0;34m\u001b[0m\u001b[0;34m\u001b[0m\u001b[0m\n\u001b[0m\u001b[1;32m    334\u001b[0m \u001b[0;34m\u001b[0m\u001b[0m\n\u001b[1;32m    335\u001b[0m     \u001b[0mdraw_networkx_nodes\u001b[0m\u001b[0;34m(\u001b[0m\u001b[0mG\u001b[0m\u001b[0;34m,\u001b[0m \u001b[0mpos\u001b[0m\u001b[0;34m,\u001b[0m \u001b[0;34m**\u001b[0m\u001b[0mnode_kwds\u001b[0m\u001b[0;34m)\u001b[0m\u001b[0;34m\u001b[0m\u001b[0;34m\u001b[0m\u001b[0m\n",
      "\u001b[0;32m/opt/conda/lib/python3.9/site-packages/networkx/utils/decorators.py\u001b[0m in \u001b[0;36margmap_spring_layout_5\u001b[0;34m(G, k, pos, fixed, iterations, threshold, weight, scale, center, dim, seed)\u001b[0m\n\u001b[1;32m      2\u001b[0m \u001b[0;32mfrom\u001b[0m \u001b[0mos\u001b[0m\u001b[0;34m.\u001b[0m\u001b[0mpath\u001b[0m \u001b[0;32mimport\u001b[0m \u001b[0msplitext\u001b[0m\u001b[0;34m\u001b[0m\u001b[0;34m\u001b[0m\u001b[0m\n\u001b[1;32m      3\u001b[0m \u001b[0;32mfrom\u001b[0m \u001b[0mcontextlib\u001b[0m \u001b[0;32mimport\u001b[0m \u001b[0mcontextmanager\u001b[0m\u001b[0;34m\u001b[0m\u001b[0;34m\u001b[0m\u001b[0m\n\u001b[0;32m----> 4\u001b[0;31m \u001b[0;32mfrom\u001b[0m \u001b[0mpathlib\u001b[0m \u001b[0;32mimport\u001b[0m \u001b[0mPath\u001b[0m\u001b[0;34m\u001b[0m\u001b[0;34m\u001b[0m\u001b[0m\n\u001b[0m\u001b[1;32m      5\u001b[0m \u001b[0;34m\u001b[0m\u001b[0m\n\u001b[1;32m      6\u001b[0m \u001b[0;32mimport\u001b[0m \u001b[0mnetworkx\u001b[0m \u001b[0;32mas\u001b[0m \u001b[0mnx\u001b[0m\u001b[0;34m\u001b[0m\u001b[0;34m\u001b[0m\u001b[0m\n",
      "\u001b[0;32m/opt/conda/lib/python3.9/site-packages/networkx/drawing/layout.py\u001b[0m in \u001b[0;36mspring_layout\u001b[0;34m(G, k, pos, fixed, iterations, threshold, weight, scale, center, dim, seed)\u001b[0m\n\u001b[1;32m    474\u001b[0m         \u001b[0;32mif\u001b[0m \u001b[0mlen\u001b[0m\u001b[0;34m(\u001b[0m\u001b[0mG\u001b[0m\u001b[0;34m)\u001b[0m \u001b[0;34m<\u001b[0m \u001b[0;36m500\u001b[0m\u001b[0;34m:\u001b[0m  \u001b[0;31m# sparse solver for large graphs\u001b[0m\u001b[0;34m\u001b[0m\u001b[0;34m\u001b[0m\u001b[0m\n\u001b[1;32m    475\u001b[0m             \u001b[0;32mraise\u001b[0m \u001b[0mValueError\u001b[0m\u001b[0;34m\u001b[0m\u001b[0;34m\u001b[0m\u001b[0m\n\u001b[0;32m--> 476\u001b[0;31m         \u001b[0mA\u001b[0m \u001b[0;34m=\u001b[0m \u001b[0mnx\u001b[0m\u001b[0;34m.\u001b[0m\u001b[0mto_scipy_sparse_array\u001b[0m\u001b[0;34m(\u001b[0m\u001b[0mG\u001b[0m\u001b[0;34m,\u001b[0m \u001b[0mweight\u001b[0m\u001b[0;34m=\u001b[0m\u001b[0mweight\u001b[0m\u001b[0;34m,\u001b[0m \u001b[0mdtype\u001b[0m\u001b[0;34m=\u001b[0m\u001b[0;34m\"f\"\u001b[0m\u001b[0;34m)\u001b[0m\u001b[0;34m\u001b[0m\u001b[0;34m\u001b[0m\u001b[0m\n\u001b[0m\u001b[1;32m    477\u001b[0m         \u001b[0;32mif\u001b[0m \u001b[0mk\u001b[0m \u001b[0;32mis\u001b[0m \u001b[0;32mNone\u001b[0m \u001b[0;32mand\u001b[0m \u001b[0mfixed\u001b[0m \u001b[0;32mis\u001b[0m \u001b[0;32mnot\u001b[0m \u001b[0;32mNone\u001b[0m\u001b[0;34m:\u001b[0m\u001b[0;34m\u001b[0m\u001b[0;34m\u001b[0m\u001b[0m\n\u001b[1;32m    478\u001b[0m             \u001b[0;31m# We must adjust k by domain size for layouts not near 1x1\u001b[0m\u001b[0;34m\u001b[0m\u001b[0;34m\u001b[0m\u001b[0;34m\u001b[0m\u001b[0m\n",
      "\u001b[0;32m/opt/conda/lib/python3.9/site-packages/networkx/convert_matrix.py\u001b[0m in \u001b[0;36mto_scipy_sparse_array\u001b[0;34m(G, nodelist, dtype, weight, format)\u001b[0m\n\u001b[1;32m    919\u001b[0m             \u001b[0mr\u001b[0m \u001b[0;34m+=\u001b[0m \u001b[0mdiag_index\u001b[0m\u001b[0;34m\u001b[0m\u001b[0;34m\u001b[0m\u001b[0m\n\u001b[1;32m    920\u001b[0m             \u001b[0mc\u001b[0m \u001b[0;34m+=\u001b[0m \u001b[0mdiag_index\u001b[0m\u001b[0;34m\u001b[0m\u001b[0;34m\u001b[0m\u001b[0m\n\u001b[0;32m--> 921\u001b[0;31m         \u001b[0mA\u001b[0m \u001b[0;34m=\u001b[0m \u001b[0msp\u001b[0m\u001b[0;34m.\u001b[0m\u001b[0msparse\u001b[0m\u001b[0;34m.\u001b[0m\u001b[0mcoo_array\u001b[0m\u001b[0;34m(\u001b[0m\u001b[0;34m(\u001b[0m\u001b[0md\u001b[0m\u001b[0;34m,\u001b[0m \u001b[0;34m(\u001b[0m\u001b[0mr\u001b[0m\u001b[0;34m,\u001b[0m \u001b[0mc\u001b[0m\u001b[0;34m)\u001b[0m\u001b[0;34m)\u001b[0m\u001b[0;34m,\u001b[0m \u001b[0mshape\u001b[0m\u001b[0;34m=\u001b[0m\u001b[0;34m(\u001b[0m\u001b[0mnlen\u001b[0m\u001b[0;34m,\u001b[0m \u001b[0mnlen\u001b[0m\u001b[0;34m)\u001b[0m\u001b[0;34m,\u001b[0m \u001b[0mdtype\u001b[0m\u001b[0;34m=\u001b[0m\u001b[0mdtype\u001b[0m\u001b[0;34m)\u001b[0m\u001b[0;34m\u001b[0m\u001b[0;34m\u001b[0m\u001b[0m\n\u001b[0m\u001b[1;32m    922\u001b[0m     \u001b[0;32mtry\u001b[0m\u001b[0;34m:\u001b[0m\u001b[0;34m\u001b[0m\u001b[0;34m\u001b[0m\u001b[0m\n\u001b[1;32m    923\u001b[0m         \u001b[0;32mreturn\u001b[0m \u001b[0mA\u001b[0m\u001b[0;34m.\u001b[0m\u001b[0masformat\u001b[0m\u001b[0;34m(\u001b[0m\u001b[0mformat\u001b[0m\u001b[0;34m)\u001b[0m\u001b[0;34m\u001b[0m\u001b[0;34m\u001b[0m\u001b[0m\n",
      "\u001b[0;31mAttributeError\u001b[0m: module 'scipy.sparse' has no attribute 'coo_array'"
     ]
    }
   ],
   "source": [
    "nx.draw_networkx(G, with_labels=True, node_size=20, font_size=10)"
   ]
  },
  {
   "cell_type": "code",
   "execution_count": null,
   "id": "d1c2fd0d-cbad-4edb-8557-65f185dd2a4f",
   "metadata": {},
   "outputs": [],
   "source": []
  }
 ],
 "metadata": {
  "kernelspec": {
   "display_name": "Python 3 ",
   "language": "python",
   "name": "python3"
  },
  "language_info": {
   "codemirror_mode": {
    "name": "ipython",
    "version": 3
   },
   "file_extension": ".py",
   "mimetype": "text/x-python",
   "name": "python",
   "nbconvert_exporter": "python",
   "pygments_lexer": "ipython3",
   "version": "3.9.6"
  }
 },
 "nbformat": 4,
 "nbformat_minor": 5
}
