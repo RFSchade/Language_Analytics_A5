{
 "cells": [
  {
   "cell_type": "markdown",
   "id": "0cd93ac4-5cd7-4a72-9453-fb01dce652d7",
   "metadata": {},
   "source": [
    "# Edgelist experiments "
   ]
  },
  {
   "cell_type": "markdown",
   "id": "dfd12d1b-9a1e-4083-8eef-1902cddbaa31",
   "metadata": {},
   "source": [
    "Import modules"
   ]
  },
  {
   "cell_type": "code",
   "execution_count": 1,
   "id": "482473cf-0d33-4b65-88ff-fdb23a59fabd",
   "metadata": {
    "execution": {
     "iopub.execute_input": "2022-05-21T16:14:01.333520Z",
     "iopub.status.busy": "2022-05-21T16:14:01.332854Z",
     "iopub.status.idle": "2022-05-21T16:14:04.454600Z",
     "shell.execute_reply": "2022-05-21T16:14:04.453686Z",
     "shell.execute_reply.started": "2022-05-21T16:14:01.333468Z"
    }
   },
   "outputs": [
    {
     "name": "stderr",
     "output_type": "stream",
     "text": [
      "2022-05-21 18:14:01.855260: W tensorflow/stream_executor/platform/default/dso_loader.cc:64] Could not load dynamic library 'libcudart.so.11.0'; dlerror: libcudart.so.11.0: cannot open shared object file: No such file or directory\n",
      "2022-05-21 18:14:01.855299: I tensorflow/stream_executor/cuda/cudart_stub.cc:29] Ignore above cudart dlerror if you do not have a GPU set up on your machine.\n"
     ]
    }
   ],
   "source": [
    "# System tools\n",
    "import os\n",
    "\n",
    "# Data analysis\n",
    "import pandas as pd\n",
    "from collections import Counter\n",
    "from itertools import combinations \n",
    "from tqdm import tqdm\n",
    "\n",
    "# NLP\n",
    "import spacy\n",
    "nlp = spacy.load(\"en_core_web_sm\")\n",
    "\n",
    "# Network analysis tools\n",
    "import networkx as nx\n",
    "import matplotlib.pyplot as plt\n",
    "plt.rcParams[\"figure.figsize\"] = (20,20)\n",
    "\n",
    "# Regular expressions \n",
    "import re"
   ]
  },
  {
   "cell_type": "markdown",
   "id": "db7dc4b4-fe5a-4b1b-8033-af7ce0361fd2",
   "metadata": {},
   "source": [
    "Load data "
   ]
  },
  {
   "cell_type": "code",
   "execution_count": 3,
   "id": "571dd42a-51c4-4a93-b9b9-5ac2b726908f",
   "metadata": {
    "execution": {
     "iopub.execute_input": "2022-05-21T16:16:43.200905Z",
     "iopub.status.busy": "2022-05-21T16:16:43.200376Z",
     "iopub.status.idle": "2022-05-21T16:16:43.516567Z",
     "shell.execute_reply": "2022-05-21T16:16:43.515979Z",
     "shell.execute_reply.started": "2022-05-21T16:16:43.200850Z"
    },
    "tags": []
   },
   "outputs": [
    {
     "data": {
      "text/html": [
       "<div>\n",
       "<style scoped>\n",
       "    .dataframe tbody tr th:only-of-type {\n",
       "        vertical-align: middle;\n",
       "    }\n",
       "\n",
       "    .dataframe tbody tr th {\n",
       "        vertical-align: top;\n",
       "    }\n",
       "\n",
       "    .dataframe thead th {\n",
       "        text-align: right;\n",
       "    }\n",
       "</style>\n",
       "<table border=\"1\" class=\"dataframe\">\n",
       "  <thead>\n",
       "    <tr style=\"text-align: right;\">\n",
       "      <th></th>\n",
       "      <th>Unnamed: 0</th>\n",
       "      <th>title</th>\n",
       "      <th>text</th>\n",
       "      <th>label</th>\n",
       "    </tr>\n",
       "  </thead>\n",
       "  <tbody>\n",
       "    <tr>\n",
       "      <th>0</th>\n",
       "      <td>8476</td>\n",
       "      <td>You Can Smell Hillary’s Fear</td>\n",
       "      <td>Daniel Greenfield, a Shillman Journalism Fello...</td>\n",
       "      <td>FAKE</td>\n",
       "    </tr>\n",
       "    <tr>\n",
       "      <th>1</th>\n",
       "      <td>10294</td>\n",
       "      <td>Watch The Exact Moment Paul Ryan Committed Pol...</td>\n",
       "      <td>Google Pinterest Digg Linkedin Reddit Stumbleu...</td>\n",
       "      <td>FAKE</td>\n",
       "    </tr>\n",
       "    <tr>\n",
       "      <th>2</th>\n",
       "      <td>3608</td>\n",
       "      <td>Kerry to go to Paris in gesture of sympathy</td>\n",
       "      <td>U.S. Secretary of State John F. Kerry said Mon...</td>\n",
       "      <td>REAL</td>\n",
       "    </tr>\n",
       "    <tr>\n",
       "      <th>3</th>\n",
       "      <td>10142</td>\n",
       "      <td>Bernie supporters on Twitter erupt in anger ag...</td>\n",
       "      <td>— Kaydee King (@KaydeeKing) November 9, 2016 T...</td>\n",
       "      <td>FAKE</td>\n",
       "    </tr>\n",
       "    <tr>\n",
       "      <th>4</th>\n",
       "      <td>875</td>\n",
       "      <td>The Battle of New York: Why This Primary Matters</td>\n",
       "      <td>It's primary day in New York and front-runners...</td>\n",
       "      <td>REAL</td>\n",
       "    </tr>\n",
       "  </tbody>\n",
       "</table>\n",
       "</div>"
      ],
      "text/plain": [
       "   Unnamed: 0                                              title  \\\n",
       "0        8476                       You Can Smell Hillary’s Fear   \n",
       "1       10294  Watch The Exact Moment Paul Ryan Committed Pol...   \n",
       "2        3608        Kerry to go to Paris in gesture of sympathy   \n",
       "3       10142  Bernie supporters on Twitter erupt in anger ag...   \n",
       "4         875   The Battle of New York: Why This Primary Matters   \n",
       "\n",
       "                                                text label  \n",
       "0  Daniel Greenfield, a Shillman Journalism Fello...  FAKE  \n",
       "1  Google Pinterest Digg Linkedin Reddit Stumbleu...  FAKE  \n",
       "2  U.S. Secretary of State John F. Kerry said Mon...  REAL  \n",
       "3  — Kaydee King (@KaydeeKing) November 9, 2016 T...  FAKE  \n",
       "4  It's primary day in New York and front-runners...  REAL  "
      ]
     },
     "execution_count": 3,
     "metadata": {},
     "output_type": "execute_result"
    }
   ],
   "source": [
    "input_file = os.path.join(\"..\", \"..\", \"..\", \"CDS-LANG\", \"tabular_examples\", \"fake_or_real_news.csv\")\n",
    "data = pd.read_csv(input_file)\n",
    "data.head()"
   ]
  },
  {
   "cell_type": "markdown",
   "id": "71e04e8b-114b-4d1b-b246-a3d5a41869c8",
   "metadata": {},
   "source": [
    "Extract individuals"
   ]
  },
  {
   "cell_type": "code",
   "execution_count": 4,
   "id": "1c1ddf98-ddf5-472b-94b3-c9ba973c1657",
   "metadata": {
    "execution": {
     "iopub.execute_input": "2022-05-21T16:17:34.586985Z",
     "iopub.status.busy": "2022-05-21T16:17:34.586490Z",
     "iopub.status.idle": "2022-05-21T16:17:34.597704Z",
     "shell.execute_reply": "2022-05-21T16:17:34.596453Z",
     "shell.execute_reply.started": "2022-05-21T16:17:34.586937Z"
    }
   },
   "outputs": [],
   "source": [
    "real_text = data[data[\"label\"] == \"REAL\"][\"text\"]"
   ]
  },
  {
   "cell_type": "code",
   "execution_count": null,
   "id": "6d5bc4d6-4fe8-4b51-8be9-7430a378af8e",
   "metadata": {
    "execution": {
     "iopub.execute_input": "2022-05-21T16:17:51.753867Z",
     "iopub.status.busy": "2022-05-21T16:17:51.753406Z"
    }
   },
   "outputs": [
    {
     "name": "stderr",
     "output_type": "stream",
     "text": [
      "0it [00:00, ?it/s]"
     ]
    }
   ],
   "source": [
    "# get list of lists of entities\n",
    "person_list = []\n",
    "\n",
    "# iterate over every text\n",
    "for doc in tqdm(nlp.pipe(real_text, batch_size=500)):\n",
    "    # temp list\n",
    "    tmp_list = []\n",
    "    # get named entities for each text\n",
    "    for entity in doc.ents:\n",
    "        # if it is a PERSON\n",
    "        if entity.label_ == \"PERSON\":\n",
    "            # append to temporary list\n",
    "            tmp_list.append(entity.text)\n",
    "    # add to output list\n",
    "    person_list.append(tmp_list)"
   ]
  },
  {
   "cell_type": "code",
   "execution_count": null,
   "id": "b6c368bc-f010-4d19-afd3-0e7e7e873ae1",
   "metadata": {},
   "outputs": [],
   "source": []
  }
 ],
 "metadata": {
  "kernelspec": {
   "display_name": "Python 3 ",
   "language": "python",
   "name": "python3"
  },
  "language_info": {
   "codemirror_mode": {
    "name": "ipython",
    "version": 3
   },
   "file_extension": ".py",
   "mimetype": "text/x-python",
   "name": "python",
   "nbconvert_exporter": "python",
   "pygments_lexer": "ipython3",
   "version": "3.9.6"
  }
 },
 "nbformat": 4,
 "nbformat_minor": 5
}
