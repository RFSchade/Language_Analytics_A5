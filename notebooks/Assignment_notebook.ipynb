{
 "cells": [
  {
   "cell_type": "markdown",
   "id": "faca09f5-754d-4d36-a748-f00043e066f3",
   "metadata": {},
   "source": [
    "# Assignment Notebook"
   ]
  },
  {
   "cell_type": "markdown",
   "id": "ace8bf2a-0d57-456f-857b-de40c22b25ac",
   "metadata": {},
   "source": [
    "Loading modules"
   ]
  },
  {
   "cell_type": "code",
   "execution_count": 1,
   "id": "8812f959-38f1-496c-8a41-93e8452923d0",
   "metadata": {
    "execution": {
     "iopub.execute_input": "2022-05-23T17:30:54.954565Z",
     "iopub.status.busy": "2022-05-23T17:30:54.954034Z",
     "iopub.status.idle": "2022-05-23T17:30:57.888095Z",
     "shell.execute_reply": "2022-05-23T17:30:57.886775Z",
     "shell.execute_reply.started": "2022-05-23T17:30:54.954494Z"
    },
    "tags": []
   },
   "outputs": [
    {
     "name": "stderr",
     "output_type": "stream",
     "text": [
      "2022-05-23 19:30:55.430062: W tensorflow/stream_executor/platform/default/dso_loader.cc:64] Could not load dynamic library 'libcudart.so.11.0'; dlerror: libcudart.so.11.0: cannot open shared object file: No such file or directory\n",
      "2022-05-23 19:30:55.430097: I tensorflow/stream_executor/cuda/cudart_stub.cc:29] Ignore above cudart dlerror if you do not have a GPU set up on your machine.\n"
     ]
    }
   ],
   "source": [
    "# System tools\n",
    "import os\n",
    "\n",
    "# Data analysis\n",
    "import pandas as pd\n",
    "from collections import Counter\n",
    "from itertools import combinations \n",
    "from tqdm import tqdm\n",
    "\n",
    "# NLP\n",
    "import spacy\n",
    "nlp = spacy.load(\"en_core_web_sm\")\n",
    "\n",
    "# Network analysis tools\n",
    "import networkx as nx\n",
    "import matplotlib.pyplot as plt\n",
    "plt.rcParams[\"figure.figsize\"] = (20,20)\n",
    "\n",
    "# Regular expressions \n",
    "import re"
   ]
  },
  {
   "cell_type": "markdown",
   "id": "c33111ac-98ce-44c1-9c2f-ae80cdab427a",
   "metadata": {},
   "source": [
    "### Experimenting"
   ]
  },
  {
   "cell_type": "code",
   "execution_count": 2,
   "id": "aa23021a-540b-4c68-b0df-123208ce1d81",
   "metadata": {
    "execution": {
     "iopub.execute_input": "2022-05-22T16:04:30.410426Z",
     "iopub.status.busy": "2022-05-22T16:04:30.409766Z",
     "iopub.status.idle": "2022-05-22T16:04:30.416461Z",
     "shell.execute_reply": "2022-05-22T16:04:30.415075Z",
     "shell.execute_reply.started": "2022-05-22T16:04:30.410372Z"
    },
    "tags": []
   },
   "outputs": [],
   "source": [
    "# > Tried to load one dataset, but was \n",
    "# Get the filepath\n",
    "#filepath = os.path.join(\"in\", \"dblp.txt\")\n",
    "# Load data\n",
    "#y_test = pd.read_csv(filepath, header=None)"
   ]
  },
  {
   "cell_type": "code",
   "execution_count": 3,
   "id": "0f30ece1-28a1-46e7-b504-096147b3cd20",
   "metadata": {
    "execution": {
     "iopub.execute_input": "2022-05-22T16:04:31.962100Z",
     "iopub.status.busy": "2022-05-22T16:04:31.961599Z",
     "iopub.status.idle": "2022-05-22T16:04:31.992855Z",
     "shell.execute_reply": "2022-05-22T16:04:31.991437Z",
     "shell.execute_reply.started": "2022-05-22T16:04:31.962048Z"
    },
    "tags": []
   },
   "outputs": [],
   "source": [
    "# Get data  \n",
    "# Get the filepath\n",
    "filepath = os.path.join(\"in\", \"cit-HepPh.txt\")\n",
    "# Reading the filepath \n",
    "# data = pd.read_csv(filepath, sep='\\t')\n",
    "with open(filepath, \"r\") as f:\n",
    "    txt = f.read()"
   ]
  },
  {
   "cell_type": "code",
   "execution_count": 4,
   "id": "fbae0aa2-43e7-49fe-960a-9b832152a355",
   "metadata": {
    "execution": {
     "iopub.execute_input": "2022-05-22T16:04:33.693498Z",
     "iopub.status.busy": "2022-05-22T16:04:33.692789Z",
     "iopub.status.idle": "2022-05-22T16:04:33.701512Z",
     "shell.execute_reply": "2022-05-22T16:04:33.700060Z",
     "shell.execute_reply.started": "2022-05-22T16:04:33.693441Z"
    },
    "tags": []
   },
   "outputs": [
    {
     "name": "stdout",
     "output_type": "stream",
     "text": [
      "# Directed graph (each unordered pair of nodes is saved once): Cit-HepPh.txt \n",
      "# Paper citation network of Arxiv High Energy Physics category\n",
      "# Nodes: 34546 Edges: 421578\n",
      "# FromNodeId\tToNodeId\n",
      "9907233\t9301253\n",
      "9907233\t9504304\n",
      "9907233\t9505235\n",
      "9907233\t95\n"
     ]
    }
   ],
   "source": [
    "print(txt[:250])"
   ]
  },
  {
   "cell_type": "code",
   "execution_count": 5,
   "id": "48383cc7-5e68-43b3-8b59-fa9efe1d8fbd",
   "metadata": {
    "execution": {
     "iopub.execute_input": "2022-05-22T16:04:34.668725Z",
     "iopub.status.busy": "2022-05-22T16:04:34.668112Z",
     "iopub.status.idle": "2022-05-22T16:04:34.679403Z",
     "shell.execute_reply": "2022-05-22T16:04:34.678405Z",
     "shell.execute_reply.started": "2022-05-22T16:04:34.668673Z"
    },
    "tags": []
   },
   "outputs": [
    {
     "data": {
      "text/plain": [
       "['# Directed graph (each unordered pair of nodes is saved once): Cit-HepPh.txt ',\n",
       " '# Paper citation network of Arxiv High Energy Physics category',\n",
       " '# Nodes: 34546 Edges: 421578',\n",
       " '# FromNodeId\\tToNodeId']"
      ]
     },
     "execution_count": 5,
     "metadata": {},
     "output_type": "execute_result"
    }
   ],
   "source": [
    "txt.split(\"\\n\", 4)[:4]"
   ]
  },
  {
   "cell_type": "code",
   "execution_count": 6,
   "id": "d0ac3341-a18c-4dd4-a918-778e35f479ad",
   "metadata": {
    "execution": {
     "iopub.execute_input": "2022-05-22T16:04:36.299907Z",
     "iopub.status.busy": "2022-05-22T16:04:36.299432Z",
     "iopub.status.idle": "2022-05-22T16:04:36.308518Z",
     "shell.execute_reply": "2022-05-22T16:04:36.307177Z",
     "shell.execute_reply.started": "2022-05-22T16:04:36.299858Z"
    },
    "tags": []
   },
   "outputs": [],
   "source": [
    "txt_data = txt.split(\"\\n\", 4)[4]"
   ]
  },
  {
   "cell_type": "code",
   "execution_count": 7,
   "id": "7825e62a-7668-44d3-8388-8c9a0a8f2af9",
   "metadata": {
    "execution": {
     "iopub.execute_input": "2022-05-22T16:04:37.124492Z",
     "iopub.status.busy": "2022-05-22T16:04:37.124009Z",
     "iopub.status.idle": "2022-05-22T16:04:37.132651Z",
     "shell.execute_reply": "2022-05-22T16:04:37.131171Z",
     "shell.execute_reply.started": "2022-05-22T16:04:37.124443Z"
    },
    "tags": []
   },
   "outputs": [
    {
     "name": "stdout",
     "output_type": "stream",
     "text": [
      "9907233\t9301253\n",
      "9907233\t9504304\n",
      "9907233\t9505235\n",
      "9907233\t9506257\n",
      "9907233\t9606402\n",
      "9907233\t9607354\n",
      "9907\n"
     ]
    }
   ],
   "source": [
    "print(txt_data[:100])"
   ]
  },
  {
   "cell_type": "code",
   "execution_count": 8,
   "id": "1e05134b-094d-46e8-afee-0956c706e645",
   "metadata": {
    "execution": {
     "iopub.execute_input": "2022-05-22T16:04:37.839381Z",
     "iopub.status.busy": "2022-05-22T16:04:37.838909Z",
     "iopub.status.idle": "2022-05-22T16:04:37.860226Z",
     "shell.execute_reply": "2022-05-22T16:04:37.858853Z",
     "shell.execute_reply.started": "2022-05-22T16:04:37.839332Z"
    },
    "tags": []
   },
   "outputs": [],
   "source": [
    "outpath = os.path.join(\"in\", \"cit_HepPh_read.txt\")\n",
    "with open(outpath, \"w\") as f:\n",
    "    f.write(txt_data)"
   ]
  },
  {
   "cell_type": "code",
   "execution_count": 9,
   "id": "ae46d016-bdea-4a3a-9155-0dfb4d730a68",
   "metadata": {
    "execution": {
     "iopub.execute_input": "2022-05-22T16:04:38.974993Z",
     "iopub.status.busy": "2022-05-22T16:04:38.974482Z",
     "iopub.status.idle": "2022-05-22T16:04:39.049595Z",
     "shell.execute_reply": "2022-05-22T16:04:39.044307Z",
     "shell.execute_reply.started": "2022-05-22T16:04:38.974922Z"
    },
    "tags": []
   },
   "outputs": [],
   "source": [
    "# Get data  \n",
    "# Get the filepath\n",
    "filepath = os.path.join(\"in\", \"cit_HepPh_read.txt\")\n",
    "# Reading the filepath \n",
    "data = pd.read_csv(filepath, header = None, sep='\\t', names = (\"Source\", \"Target\"))"
   ]
  },
  {
   "cell_type": "code",
   "execution_count": 11,
   "id": "b8713a3b-14e3-40d6-9b49-08910babb73f",
   "metadata": {
    "execution": {
     "iopub.execute_input": "2022-05-22T16:04:43.632138Z",
     "iopub.status.busy": "2022-05-22T16:04:43.631612Z",
     "iopub.status.idle": "2022-05-22T16:04:43.646327Z",
     "shell.execute_reply": "2022-05-22T16:04:43.645111Z",
     "shell.execute_reply.started": "2022-05-22T16:04:43.632087Z"
    },
    "tags": []
   },
   "outputs": [
    {
     "data": {
      "text/html": [
       "<div>\n",
       "<style scoped>\n",
       "    .dataframe tbody tr th:only-of-type {\n",
       "        vertical-align: middle;\n",
       "    }\n",
       "\n",
       "    .dataframe tbody tr th {\n",
       "        vertical-align: top;\n",
       "    }\n",
       "\n",
       "    .dataframe thead th {\n",
       "        text-align: right;\n",
       "    }\n",
       "</style>\n",
       "<table border=\"1\" class=\"dataframe\">\n",
       "  <thead>\n",
       "    <tr style=\"text-align: right;\">\n",
       "      <th></th>\n",
       "      <th>Source</th>\n",
       "      <th>Target</th>\n",
       "    </tr>\n",
       "  </thead>\n",
       "  <tbody>\n",
       "    <tr>\n",
       "      <th>0</th>\n",
       "      <td>9907233</td>\n",
       "      <td>9301253</td>\n",
       "    </tr>\n",
       "    <tr>\n",
       "      <th>1</th>\n",
       "      <td>9907233</td>\n",
       "      <td>9504304</td>\n",
       "    </tr>\n",
       "    <tr>\n",
       "      <th>2</th>\n",
       "      <td>9907233</td>\n",
       "      <td>9505235</td>\n",
       "    </tr>\n",
       "    <tr>\n",
       "      <th>3</th>\n",
       "      <td>9907233</td>\n",
       "      <td>9506257</td>\n",
       "    </tr>\n",
       "    <tr>\n",
       "      <th>4</th>\n",
       "      <td>9907233</td>\n",
       "      <td>9606402</td>\n",
       "    </tr>\n",
       "  </tbody>\n",
       "</table>\n",
       "</div>"
      ],
      "text/plain": [
       "    Source   Target\n",
       "0  9907233  9301253\n",
       "1  9907233  9504304\n",
       "2  9907233  9505235\n",
       "3  9907233  9506257\n",
       "4  9907233  9606402"
      ]
     },
     "execution_count": 11,
     "metadata": {},
     "output_type": "execute_result"
    }
   ],
   "source": [
    "data.head()"
   ]
  },
  {
   "cell_type": "code",
   "execution_count": 13,
   "id": "554ac145-f93c-4664-a8df-af8d8dc42b23",
   "metadata": {
    "execution": {
     "iopub.execute_input": "2022-05-22T16:05:30.523336Z",
     "iopub.status.busy": "2022-05-22T16:05:30.522731Z",
     "iopub.status.idle": "2022-05-22T16:05:30.531762Z",
     "shell.execute_reply": "2022-05-22T16:05:30.530962Z",
     "shell.execute_reply.started": "2022-05-22T16:05:30.523280Z"
    },
    "tags": []
   },
   "outputs": [
    {
     "data": {
      "text/plain": [
       "421578"
      ]
     },
     "execution_count": 13,
     "metadata": {},
     "output_type": "execute_result"
    }
   ],
   "source": [
    "len(data) # Is it the amount of data that is giving me trouble? "
   ]
  },
  {
   "cell_type": "markdown",
   "id": "514c39d7-231d-47e3-9ce8-f757add7288d",
   "metadata": {},
   "source": [
    "Count edges (directed)"
   ]
  },
  {
   "cell_type": "code",
   "execution_count": 2,
   "id": "c8999c59-81c7-4726-9ef1-785430b5bbc7",
   "metadata": {
    "execution": {
     "iopub.execute_input": "2022-05-23T17:31:09.570753Z",
     "iopub.status.busy": "2022-05-23T17:31:09.570227Z",
     "iopub.status.idle": "2022-05-23T17:31:09.580345Z",
     "shell.execute_reply": "2022-05-23T17:31:09.579142Z",
     "shell.execute_reply.started": "2022-05-23T17:31:09.570703Z"
    },
    "tags": []
   },
   "outputs": [],
   "source": [
    "# Create toy data\n",
    "l = [[\"A\", \"B\"], [\"A\", \"B\"], [\"B\", \"A\"], [\"C\", \"A\"], [\"C\", \"B\"], [\"B\", \"C\"], [\"A\", \"C\"]]\n",
    "toy_df = pd.DataFrame(l, columns=[\"source\", \"target\"])"
   ]
  },
  {
   "cell_type": "code",
   "execution_count": 27,
   "id": "91a25eba-a51c-4bee-bfaa-ac806f334de8",
   "metadata": {
    "execution": {
     "iopub.execute_input": "2022-05-23T19:58:12.533574Z",
     "iopub.status.busy": "2022-05-23T19:58:12.533038Z",
     "iopub.status.idle": "2022-05-23T19:58:12.548482Z",
     "shell.execute_reply": "2022-05-23T19:58:12.546917Z",
     "shell.execute_reply.started": "2022-05-23T19:58:12.533504Z"
    },
    "tags": []
   },
   "outputs": [
    {
     "data": {
      "text/html": [
       "<div>\n",
       "<style scoped>\n",
       "    .dataframe tbody tr th:only-of-type {\n",
       "        vertical-align: middle;\n",
       "    }\n",
       "\n",
       "    .dataframe tbody tr th {\n",
       "        vertical-align: top;\n",
       "    }\n",
       "\n",
       "    .dataframe thead th {\n",
       "        text-align: right;\n",
       "    }\n",
       "</style>\n",
       "<table border=\"1\" class=\"dataframe\">\n",
       "  <thead>\n",
       "    <tr style=\"text-align: right;\">\n",
       "      <th></th>\n",
       "      <th>source</th>\n",
       "      <th>target</th>\n",
       "    </tr>\n",
       "  </thead>\n",
       "  <tbody>\n",
       "    <tr>\n",
       "      <th>0</th>\n",
       "      <td>A</td>\n",
       "      <td>B</td>\n",
       "    </tr>\n",
       "    <tr>\n",
       "      <th>1</th>\n",
       "      <td>A</td>\n",
       "      <td>B</td>\n",
       "    </tr>\n",
       "    <tr>\n",
       "      <th>2</th>\n",
       "      <td>B</td>\n",
       "      <td>A</td>\n",
       "    </tr>\n",
       "    <tr>\n",
       "      <th>3</th>\n",
       "      <td>C</td>\n",
       "      <td>A</td>\n",
       "    </tr>\n",
       "    <tr>\n",
       "      <th>4</th>\n",
       "      <td>C</td>\n",
       "      <td>B</td>\n",
       "    </tr>\n",
       "  </tbody>\n",
       "</table>\n",
       "</div>"
      ],
      "text/plain": [
       "  source target\n",
       "0      A      B\n",
       "1      A      B\n",
       "2      B      A\n",
       "3      C      A\n",
       "4      C      B"
      ]
     },
     "execution_count": 27,
     "metadata": {},
     "output_type": "execute_result"
    }
   ],
   "source": [
    "toy_df.head()"
   ]
  },
  {
   "cell_type": "code",
   "execution_count": 29,
   "id": "e22e9854-d464-43d9-b06b-b4594ab03261",
   "metadata": {
    "execution": {
     "iopub.execute_input": "2022-05-23T20:00:05.031284Z",
     "iopub.status.busy": "2022-05-23T20:00:05.030776Z",
     "iopub.status.idle": "2022-05-23T20:00:05.040502Z",
     "shell.execute_reply": "2022-05-23T20:00:05.039001Z",
     "shell.execute_reply.started": "2022-05-23T20:00:05.031235Z"
    },
    "tags": []
   },
   "outputs": [],
   "source": [
    "# Create toy data\n",
    "l = [[\"A\", \"date_1\"], [\"B\", \"date_2\"], [\"C\", \"date_3\"]]\n",
    "date_df = pd.DataFrame(l, columns=[\"source\", \"date\"])"
   ]
  },
  {
   "cell_type": "code",
   "execution_count": 32,
   "id": "7ae48951-0aad-4166-b361-fbf1fa3cc5a2",
   "metadata": {
    "execution": {
     "iopub.execute_input": "2022-05-23T20:00:45.703962Z",
     "iopub.status.busy": "2022-05-23T20:00:45.703421Z",
     "iopub.status.idle": "2022-05-23T20:00:45.719303Z",
     "shell.execute_reply": "2022-05-23T20:00:45.718063Z",
     "shell.execute_reply.started": "2022-05-23T20:00:45.703909Z"
    },
    "tags": []
   },
   "outputs": [
    {
     "data": {
      "text/html": [
       "<div>\n",
       "<style scoped>\n",
       "    .dataframe tbody tr th:only-of-type {\n",
       "        vertical-align: middle;\n",
       "    }\n",
       "\n",
       "    .dataframe tbody tr th {\n",
       "        vertical-align: top;\n",
       "    }\n",
       "\n",
       "    .dataframe thead th {\n",
       "        text-align: right;\n",
       "    }\n",
       "</style>\n",
       "<table border=\"1\" class=\"dataframe\">\n",
       "  <thead>\n",
       "    <tr style=\"text-align: right;\">\n",
       "      <th></th>\n",
       "      <th>source</th>\n",
       "      <th>target</th>\n",
       "      <th>date</th>\n",
       "    </tr>\n",
       "  </thead>\n",
       "  <tbody>\n",
       "    <tr>\n",
       "      <th>0</th>\n",
       "      <td>A</td>\n",
       "      <td>B</td>\n",
       "      <td>date_1</td>\n",
       "    </tr>\n",
       "    <tr>\n",
       "      <th>1</th>\n",
       "      <td>A</td>\n",
       "      <td>B</td>\n",
       "      <td>date_1</td>\n",
       "    </tr>\n",
       "    <tr>\n",
       "      <th>2</th>\n",
       "      <td>A</td>\n",
       "      <td>C</td>\n",
       "      <td>date_1</td>\n",
       "    </tr>\n",
       "    <tr>\n",
       "      <th>3</th>\n",
       "      <td>B</td>\n",
       "      <td>A</td>\n",
       "      <td>date_2</td>\n",
       "    </tr>\n",
       "    <tr>\n",
       "      <th>4</th>\n",
       "      <td>B</td>\n",
       "      <td>C</td>\n",
       "      <td>date_2</td>\n",
       "    </tr>\n",
       "    <tr>\n",
       "      <th>5</th>\n",
       "      <td>C</td>\n",
       "      <td>A</td>\n",
       "      <td>date_3</td>\n",
       "    </tr>\n",
       "    <tr>\n",
       "      <th>6</th>\n",
       "      <td>C</td>\n",
       "      <td>B</td>\n",
       "      <td>date_3</td>\n",
       "    </tr>\n",
       "  </tbody>\n",
       "</table>\n",
       "</div>"
      ],
      "text/plain": [
       "  source target    date\n",
       "0      A      B  date_1\n",
       "1      A      B  date_1\n",
       "2      A      C  date_1\n",
       "3      B      A  date_2\n",
       "4      B      C  date_2\n",
       "5      C      A  date_3\n",
       "6      C      B  date_3"
      ]
     },
     "execution_count": 32,
     "metadata": {},
     "output_type": "execute_result"
    }
   ],
   "source": [
    "result"
   ]
  },
  {
   "cell_type": "code",
   "execution_count": 30,
   "id": "63dff193-575c-46b2-b414-8d000026f173",
   "metadata": {
    "execution": {
     "iopub.execute_input": "2022-05-23T20:00:20.081597Z",
     "iopub.status.busy": "2022-05-23T20:00:20.081063Z",
     "iopub.status.idle": "2022-05-23T20:00:20.093354Z",
     "shell.execute_reply": "2022-05-23T20:00:20.092349Z",
     "shell.execute_reply.started": "2022-05-23T20:00:20.081545Z"
    }
   },
   "outputs": [],
   "source": [
    "result = pd.merge(toy_df, date_df, on=\"source\")"
   ]
  },
  {
   "cell_type": "code",
   "execution_count": 20,
   "id": "8d888d4f-3c93-4609-b91a-54ca7e92a407",
   "metadata": {
    "execution": {
     "iopub.execute_input": "2022-05-23T17:55:00.727086Z",
     "iopub.status.busy": "2022-05-23T17:55:00.726577Z",
     "iopub.status.idle": "2022-05-23T17:55:00.738399Z",
     "shell.execute_reply": "2022-05-23T17:55:00.737371Z",
     "shell.execute_reply.started": "2022-05-23T17:55:00.727034Z"
    }
   },
   "outputs": [
    {
     "data": {
      "text/plain": [
       "source    object\n",
       "target    object\n",
       "dtype: object"
      ]
     },
     "execution_count": 20,
     "metadata": {},
     "output_type": "execute_result"
    }
   ],
   "source": [
    "toy_df.dtypes"
   ]
  },
  {
   "cell_type": "code",
   "execution_count": 14,
   "id": "eec3b8e7-ea85-4589-aefb-f83932c2c6ae",
   "metadata": {
    "execution": {
     "iopub.execute_input": "2022-05-23T17:42:54.433672Z",
     "iopub.status.busy": "2022-05-23T17:42:54.433143Z",
     "iopub.status.idle": "2022-05-23T17:42:54.445410Z",
     "shell.execute_reply": "2022-05-23T17:42:54.443998Z",
     "shell.execute_reply.started": "2022-05-23T17:42:54.433622Z"
    },
    "tags": []
   },
   "outputs": [],
   "source": [
    "count_df = toy_df.apply(pd.value_counts)"
   ]
  },
  {
   "cell_type": "code",
   "execution_count": 17,
   "id": "e0b0e4f5-6a76-4ff6-9ec2-f52decd9e719",
   "metadata": {
    "execution": {
     "iopub.execute_input": "2022-05-23T17:43:34.789551Z",
     "iopub.status.busy": "2022-05-23T17:43:34.789020Z",
     "iopub.status.idle": "2022-05-23T17:43:34.799694Z",
     "shell.execute_reply": "2022-05-23T17:43:34.797972Z",
     "shell.execute_reply.started": "2022-05-23T17:43:34.789476Z"
    },
    "tags": []
   },
   "outputs": [],
   "source": [
    "count_df[\"sum\"] = count_df.sum(axis=1)"
   ]
  },
  {
   "cell_type": "code",
   "execution_count": 21,
   "id": "62c64bdb-1b0d-4d77-96fd-878fdc19404d",
   "metadata": {
    "execution": {
     "iopub.execute_input": "2022-05-23T18:06:53.266738Z",
     "iopub.status.busy": "2022-05-23T18:06:53.266173Z",
     "iopub.status.idle": "2022-05-23T18:06:53.280183Z",
     "shell.execute_reply": "2022-05-23T18:06:53.279248Z",
     "shell.execute_reply.started": "2022-05-23T18:06:53.266684Z"
    },
    "tags": []
   },
   "outputs": [
    {
     "data": {
      "text/html": [
       "<div>\n",
       "<style scoped>\n",
       "    .dataframe tbody tr th:only-of-type {\n",
       "        vertical-align: middle;\n",
       "    }\n",
       "\n",
       "    .dataframe tbody tr th {\n",
       "        vertical-align: top;\n",
       "    }\n",
       "\n",
       "    .dataframe thead th {\n",
       "        text-align: right;\n",
       "    }\n",
       "</style>\n",
       "<table border=\"1\" class=\"dataframe\">\n",
       "  <thead>\n",
       "    <tr style=\"text-align: right;\">\n",
       "      <th></th>\n",
       "      <th>source</th>\n",
       "      <th>target</th>\n",
       "      <th>sum</th>\n",
       "    </tr>\n",
       "  </thead>\n",
       "  <tbody>\n",
       "    <tr>\n",
       "      <th>A</th>\n",
       "      <td>3</td>\n",
       "      <td>2</td>\n",
       "      <td>5</td>\n",
       "    </tr>\n",
       "    <tr>\n",
       "      <th>B</th>\n",
       "      <td>2</td>\n",
       "      <td>3</td>\n",
       "      <td>5</td>\n",
       "    </tr>\n",
       "    <tr>\n",
       "      <th>C</th>\n",
       "      <td>2</td>\n",
       "      <td>2</td>\n",
       "      <td>4</td>\n",
       "    </tr>\n",
       "  </tbody>\n",
       "</table>\n",
       "</div>"
      ],
      "text/plain": [
       "   source  target  sum\n",
       "A       3       2    5\n",
       "B       2       3    5\n",
       "C       2       2    4"
      ]
     },
     "execution_count": 21,
     "metadata": {},
     "output_type": "execute_result"
    }
   ],
   "source": [
    "count_df.head()"
   ]
  },
  {
   "cell_type": "code",
   "execution_count": 24,
   "id": "348734b0-2686-443a-aaf8-52e5cccdccca",
   "metadata": {
    "execution": {
     "iopub.execute_input": "2022-05-23T18:08:34.879668Z",
     "iopub.status.busy": "2022-05-23T18:08:34.879142Z",
     "iopub.status.idle": "2022-05-23T18:08:34.890114Z",
     "shell.execute_reply": "2022-05-23T18:08:34.888522Z",
     "shell.execute_reply.started": "2022-05-23T18:08:34.879617Z"
    },
    "tags": []
   },
   "outputs": [],
   "source": [
    "filter_df = toy_df[toy_df[\"source\"].str.contains(\"A\") | toy_df[\"target\"].str.contains(\"A\")]"
   ]
  },
  {
   "cell_type": "code",
   "execution_count": 25,
   "id": "62a33d57-07f6-44e5-8646-af753fc99685",
   "metadata": {
    "execution": {
     "iopub.execute_input": "2022-05-23T18:08:39.055022Z",
     "iopub.status.busy": "2022-05-23T18:08:39.054499Z",
     "iopub.status.idle": "2022-05-23T18:08:39.069328Z",
     "shell.execute_reply": "2022-05-23T18:08:39.068023Z",
     "shell.execute_reply.started": "2022-05-23T18:08:39.054971Z"
    }
   },
   "outputs": [
    {
     "data": {
      "text/html": [
       "<div>\n",
       "<style scoped>\n",
       "    .dataframe tbody tr th:only-of-type {\n",
       "        vertical-align: middle;\n",
       "    }\n",
       "\n",
       "    .dataframe tbody tr th {\n",
       "        vertical-align: top;\n",
       "    }\n",
       "\n",
       "    .dataframe thead th {\n",
       "        text-align: right;\n",
       "    }\n",
       "</style>\n",
       "<table border=\"1\" class=\"dataframe\">\n",
       "  <thead>\n",
       "    <tr style=\"text-align: right;\">\n",
       "      <th></th>\n",
       "      <th>source</th>\n",
       "      <th>target</th>\n",
       "    </tr>\n",
       "  </thead>\n",
       "  <tbody>\n",
       "    <tr>\n",
       "      <th>0</th>\n",
       "      <td>A</td>\n",
       "      <td>B</td>\n",
       "    </tr>\n",
       "    <tr>\n",
       "      <th>1</th>\n",
       "      <td>A</td>\n",
       "      <td>B</td>\n",
       "    </tr>\n",
       "    <tr>\n",
       "      <th>2</th>\n",
       "      <td>B</td>\n",
       "      <td>A</td>\n",
       "    </tr>\n",
       "    <tr>\n",
       "      <th>3</th>\n",
       "      <td>C</td>\n",
       "      <td>A</td>\n",
       "    </tr>\n",
       "    <tr>\n",
       "      <th>6</th>\n",
       "      <td>A</td>\n",
       "      <td>C</td>\n",
       "    </tr>\n",
       "  </tbody>\n",
       "</table>\n",
       "</div>"
      ],
      "text/plain": [
       "  source target\n",
       "0      A      B\n",
       "1      A      B\n",
       "2      B      A\n",
       "3      C      A\n",
       "6      A      C"
      ]
     },
     "execution_count": 25,
     "metadata": {},
     "output_type": "execute_result"
    }
   ],
   "source": [
    "filter_df"
   ]
  },
  {
   "cell_type": "code",
   "execution_count": 16,
   "id": "76d58ae5-c97e-4a9d-a59c-6fd4cab64a59",
   "metadata": {
    "execution": {
     "iopub.execute_input": "2022-05-22T16:05:33.843601Z",
     "iopub.status.busy": "2022-05-22T16:05:33.843044Z",
     "iopub.status.idle": "2022-05-22T16:05:33.887539Z",
     "shell.execute_reply": "2022-05-22T16:05:33.886576Z",
     "shell.execute_reply.started": "2022-05-22T16:05:33.843551Z"
    },
    "tags": []
   },
   "outputs": [
    {
     "data": {
      "text/html": [
       "<div>\n",
       "<style scoped>\n",
       "    .dataframe tbody tr th:only-of-type {\n",
       "        vertical-align: middle;\n",
       "    }\n",
       "\n",
       "    .dataframe tbody tr th {\n",
       "        vertical-align: top;\n",
       "    }\n",
       "\n",
       "    .dataframe thead th {\n",
       "        text-align: right;\n",
       "    }\n",
       "</style>\n",
       "<table border=\"1\" class=\"dataframe\">\n",
       "  <thead>\n",
       "    <tr style=\"text-align: right;\">\n",
       "      <th></th>\n",
       "      <th>source</th>\n",
       "      <th>target</th>\n",
       "      <th>count</th>\n",
       "    </tr>\n",
       "  </thead>\n",
       "  <tbody>\n",
       "    <tr>\n",
       "      <th>0</th>\n",
       "      <td>A</td>\n",
       "      <td>B</td>\n",
       "      <td>2</td>\n",
       "    </tr>\n",
       "    <tr>\n",
       "      <th>1</th>\n",
       "      <td>A</td>\n",
       "      <td>C</td>\n",
       "      <td>1</td>\n",
       "    </tr>\n",
       "    <tr>\n",
       "      <th>2</th>\n",
       "      <td>B</td>\n",
       "      <td>A</td>\n",
       "      <td>1</td>\n",
       "    </tr>\n",
       "    <tr>\n",
       "      <th>3</th>\n",
       "      <td>B</td>\n",
       "      <td>C</td>\n",
       "      <td>1</td>\n",
       "    </tr>\n",
       "    <tr>\n",
       "      <th>4</th>\n",
       "      <td>C</td>\n",
       "      <td>A</td>\n",
       "      <td>1</td>\n",
       "    </tr>\n",
       "    <tr>\n",
       "      <th>5</th>\n",
       "      <td>C</td>\n",
       "      <td>B</td>\n",
       "      <td>1</td>\n",
       "    </tr>\n",
       "  </tbody>\n",
       "</table>\n",
       "</div>"
      ],
      "text/plain": [
       "  source target  count\n",
       "0      A      B      2\n",
       "1      A      C      1\n",
       "2      B      A      1\n",
       "3      B      C      1\n",
       "4      C      A      1\n",
       "5      C      B      1"
      ]
     },
     "execution_count": 16,
     "metadata": {},
     "output_type": "execute_result"
    }
   ],
   "source": [
    "toy_df.value_counts().reset_index(name='count')"
   ]
  },
  {
   "cell_type": "code",
   "execution_count": 17,
   "id": "51b4285b-b3dc-4cbe-b292-9bb70f71869f",
   "metadata": {
    "execution": {
     "iopub.execute_input": "2022-05-22T16:05:34.841535Z",
     "iopub.status.busy": "2022-05-22T16:05:34.841078Z",
     "iopub.status.idle": "2022-05-22T16:05:34.854701Z",
     "shell.execute_reply": "2022-05-22T16:05:34.853631Z",
     "shell.execute_reply.started": "2022-05-22T16:05:34.841488Z"
    },
    "tags": []
   },
   "outputs": [
    {
     "data": {
      "text/html": [
       "<div>\n",
       "<style scoped>\n",
       "    .dataframe tbody tr th:only-of-type {\n",
       "        vertical-align: middle;\n",
       "    }\n",
       "\n",
       "    .dataframe tbody tr th {\n",
       "        vertical-align: top;\n",
       "    }\n",
       "\n",
       "    .dataframe thead th {\n",
       "        text-align: right;\n",
       "    }\n",
       "</style>\n",
       "<table border=\"1\" class=\"dataframe\">\n",
       "  <thead>\n",
       "    <tr style=\"text-align: right;\">\n",
       "      <th></th>\n",
       "      <th>Source</th>\n",
       "      <th>Target</th>\n",
       "    </tr>\n",
       "  </thead>\n",
       "  <tbody>\n",
       "    <tr>\n",
       "      <th>0</th>\n",
       "      <td>9907233</td>\n",
       "      <td>9301253</td>\n",
       "    </tr>\n",
       "    <tr>\n",
       "      <th>1</th>\n",
       "      <td>9907233</td>\n",
       "      <td>9504304</td>\n",
       "    </tr>\n",
       "    <tr>\n",
       "      <th>2</th>\n",
       "      <td>9907233</td>\n",
       "      <td>9505235</td>\n",
       "    </tr>\n",
       "    <tr>\n",
       "      <th>3</th>\n",
       "      <td>9907233</td>\n",
       "      <td>9506257</td>\n",
       "    </tr>\n",
       "    <tr>\n",
       "      <th>4</th>\n",
       "      <td>9907233</td>\n",
       "      <td>9606402</td>\n",
       "    </tr>\n",
       "  </tbody>\n",
       "</table>\n",
       "</div>"
      ],
      "text/plain": [
       "    Source   Target\n",
       "0  9907233  9301253\n",
       "1  9907233  9504304\n",
       "2  9907233  9505235\n",
       "3  9907233  9506257\n",
       "4  9907233  9606402"
      ]
     },
     "execution_count": 17,
     "metadata": {},
     "output_type": "execute_result"
    }
   ],
   "source": [
    "data.head()"
   ]
  },
  {
   "cell_type": "code",
   "execution_count": 18,
   "id": "f15564f1-1ea9-4ba6-a3d2-183fe784cc28",
   "metadata": {
    "execution": {
     "iopub.execute_input": "2022-05-22T16:05:35.701693Z",
     "iopub.status.busy": "2022-05-22T16:05:35.701091Z",
     "iopub.status.idle": "2022-05-22T16:05:35.845005Z",
     "shell.execute_reply": "2022-05-22T16:05:35.844257Z",
     "shell.execute_reply.started": "2022-05-22T16:05:35.701643Z"
    },
    "tags": []
   },
   "outputs": [],
   "source": [
    "new_data = data.value_counts().reset_index(name='Weights')"
   ]
  },
  {
   "cell_type": "code",
   "execution_count": 19,
   "id": "b3406f0a-a9ee-451d-8c2f-a63bd5db3a62",
   "metadata": {
    "execution": {
     "iopub.execute_input": "2022-05-22T16:05:36.987782Z",
     "iopub.status.busy": "2022-05-22T16:05:36.987217Z",
     "iopub.status.idle": "2022-05-22T16:05:37.001103Z",
     "shell.execute_reply": "2022-05-22T16:05:37.000402Z",
     "shell.execute_reply.started": "2022-05-22T16:05:36.987729Z"
    },
    "tags": []
   },
   "outputs": [
    {
     "data": {
      "text/html": [
       "<div>\n",
       "<style scoped>\n",
       "    .dataframe tbody tr th:only-of-type {\n",
       "        vertical-align: middle;\n",
       "    }\n",
       "\n",
       "    .dataframe tbody tr th {\n",
       "        vertical-align: top;\n",
       "    }\n",
       "\n",
       "    .dataframe thead th {\n",
       "        text-align: right;\n",
       "    }\n",
       "</style>\n",
       "<table border=\"1\" class=\"dataframe\">\n",
       "  <thead>\n",
       "    <tr style=\"text-align: right;\">\n",
       "      <th></th>\n",
       "      <th>Source</th>\n",
       "      <th>Target</th>\n",
       "      <th>Weights</th>\n",
       "    </tr>\n",
       "  </thead>\n",
       "  <tbody>\n",
       "    <tr>\n",
       "      <th>0</th>\n",
       "      <td>1001</td>\n",
       "      <td>9212308</td>\n",
       "      <td>1</td>\n",
       "    </tr>\n",
       "    <tr>\n",
       "      <th>1</th>\n",
       "      <td>9701370</td>\n",
       "      <td>9607362</td>\n",
       "      <td>1</td>\n",
       "    </tr>\n",
       "    <tr>\n",
       "      <th>2</th>\n",
       "      <td>9701371</td>\n",
       "      <td>9606390</td>\n",
       "      <td>1</td>\n",
       "    </tr>\n",
       "    <tr>\n",
       "      <th>3</th>\n",
       "      <td>9701371</td>\n",
       "      <td>9605411</td>\n",
       "      <td>1</td>\n",
       "    </tr>\n",
       "    <tr>\n",
       "      <th>4</th>\n",
       "      <td>9701371</td>\n",
       "      <td>9510449</td>\n",
       "      <td>1</td>\n",
       "    </tr>\n",
       "  </tbody>\n",
       "</table>\n",
       "</div>"
      ],
      "text/plain": [
       "    Source   Target  Weights\n",
       "0     1001  9212308        1\n",
       "1  9701370  9607362        1\n",
       "2  9701371  9606390        1\n",
       "3  9701371  9605411        1\n",
       "4  9701371  9510449        1"
      ]
     },
     "execution_count": 19,
     "metadata": {},
     "output_type": "execute_result"
    }
   ],
   "source": [
    "new_data.head()"
   ]
  },
  {
   "cell_type": "code",
   "execution_count": 21,
   "id": "f4f17040-311d-47d3-8d3e-73c24fc77c33",
   "metadata": {
    "execution": {
     "iopub.execute_input": "2022-05-22T16:05:50.704527Z",
     "iopub.status.busy": "2022-05-22T16:05:50.703808Z",
     "iopub.status.idle": "2022-05-22T16:05:50.719102Z",
     "shell.execute_reply": "2022-05-22T16:05:50.717830Z",
     "shell.execute_reply.started": "2022-05-22T16:05:50.704458Z"
    },
    "tags": []
   },
   "outputs": [
    {
     "data": {
      "text/plain": [
       "array([1])"
      ]
     },
     "execution_count": 21,
     "metadata": {},
     "output_type": "execute_result"
    }
   ],
   "source": [
    "new_data[\"Weights\"].unique()"
   ]
  },
  {
   "cell_type": "markdown",
   "id": "5b29cc36-b2b8-4c21-b626-59123de54838",
   "metadata": {},
   "source": [
    "I quess it does make sense for there to be no repeat values - it would make no sense for an article to make the same citation twice"
   ]
  },
  {
   "cell_type": "code",
   "execution_count": 22,
   "id": "e9384b17-0b89-4971-83d0-103463916584",
   "metadata": {
    "execution": {
     "iopub.execute_input": "2022-05-22T16:05:55.574599Z",
     "iopub.status.busy": "2022-05-22T16:05:55.573927Z",
     "iopub.status.idle": "2022-05-22T16:05:55.724564Z",
     "shell.execute_reply": "2022-05-22T16:05:55.723179Z",
     "shell.execute_reply.started": "2022-05-22T16:05:55.574546Z"
    },
    "tags": []
   },
   "outputs": [],
   "source": [
    "new_new_data = data.groupby(['Source','Target']).size().reset_index().rename(columns={0:'count'})"
   ]
  },
  {
   "cell_type": "code",
   "execution_count": 23,
   "id": "6994b337-577d-4134-9d56-0e5c277fff33",
   "metadata": {
    "execution": {
     "iopub.execute_input": "2022-05-22T16:05:56.251726Z",
     "iopub.status.busy": "2022-05-22T16:05:56.251243Z",
     "iopub.status.idle": "2022-05-22T16:05:56.266516Z",
     "shell.execute_reply": "2022-05-22T16:05:56.265612Z",
     "shell.execute_reply.started": "2022-05-22T16:05:56.251677Z"
    },
    "tags": []
   },
   "outputs": [
    {
     "data": {
      "text/html": [
       "<div>\n",
       "<style scoped>\n",
       "    .dataframe tbody tr th:only-of-type {\n",
       "        vertical-align: middle;\n",
       "    }\n",
       "\n",
       "    .dataframe tbody tr th {\n",
       "        vertical-align: top;\n",
       "    }\n",
       "\n",
       "    .dataframe thead th {\n",
       "        text-align: right;\n",
       "    }\n",
       "</style>\n",
       "<table border=\"1\" class=\"dataframe\">\n",
       "  <thead>\n",
       "    <tr style=\"text-align: right;\">\n",
       "      <th></th>\n",
       "      <th>Source</th>\n",
       "      <th>Target</th>\n",
       "      <th>count</th>\n",
       "    </tr>\n",
       "  </thead>\n",
       "  <tbody>\n",
       "    <tr>\n",
       "      <th>0</th>\n",
       "      <td>1001</td>\n",
       "      <td>9212308</td>\n",
       "      <td>1</td>\n",
       "    </tr>\n",
       "    <tr>\n",
       "      <th>1</th>\n",
       "      <td>1001</td>\n",
       "      <td>9305239</td>\n",
       "      <td>1</td>\n",
       "    </tr>\n",
       "    <tr>\n",
       "      <th>2</th>\n",
       "      <td>1001</td>\n",
       "      <td>9306240</td>\n",
       "      <td>1</td>\n",
       "    </tr>\n",
       "    <tr>\n",
       "      <th>3</th>\n",
       "      <td>1001</td>\n",
       "      <td>9312276</td>\n",
       "      <td>1</td>\n",
       "    </tr>\n",
       "    <tr>\n",
       "      <th>4</th>\n",
       "      <td>1001</td>\n",
       "      <td>9312333</td>\n",
       "      <td>1</td>\n",
       "    </tr>\n",
       "  </tbody>\n",
       "</table>\n",
       "</div>"
      ],
      "text/plain": [
       "   Source   Target  count\n",
       "0    1001  9212308      1\n",
       "1    1001  9305239      1\n",
       "2    1001  9306240      1\n",
       "3    1001  9312276      1\n",
       "4    1001  9312333      1"
      ]
     },
     "execution_count": 23,
     "metadata": {},
     "output_type": "execute_result"
    }
   ],
   "source": [
    "new_new_data.head()"
   ]
  },
  {
   "cell_type": "code",
   "execution_count": 24,
   "id": "925e42ff-eb3c-4e6e-84e1-3c7416a4ec39",
   "metadata": {
    "execution": {
     "iopub.execute_input": "2022-05-22T16:05:58.018811Z",
     "iopub.status.busy": "2022-05-22T16:05:58.018327Z",
     "iopub.status.idle": "2022-05-22T16:05:58.038120Z",
     "shell.execute_reply": "2022-05-22T16:05:58.037108Z",
     "shell.execute_reply.started": "2022-05-22T16:05:58.018762Z"
    },
    "tags": []
   },
   "outputs": [
    {
     "data": {
      "text/html": [
       "<div>\n",
       "<style scoped>\n",
       "    .dataframe tbody tr th:only-of-type {\n",
       "        vertical-align: middle;\n",
       "    }\n",
       "\n",
       "    .dataframe tbody tr th {\n",
       "        vertical-align: top;\n",
       "    }\n",
       "\n",
       "    .dataframe thead th {\n",
       "        text-align: right;\n",
       "    }\n",
       "</style>\n",
       "<table border=\"1\" class=\"dataframe\">\n",
       "  <thead>\n",
       "    <tr style=\"text-align: right;\">\n",
       "      <th></th>\n",
       "      <th>source</th>\n",
       "      <th>target</th>\n",
       "      <th>0</th>\n",
       "    </tr>\n",
       "  </thead>\n",
       "  <tbody>\n",
       "    <tr>\n",
       "      <th>0</th>\n",
       "      <td>A</td>\n",
       "      <td>B</td>\n",
       "      <td>2</td>\n",
       "    </tr>\n",
       "    <tr>\n",
       "      <th>1</th>\n",
       "      <td>A</td>\n",
       "      <td>C</td>\n",
       "      <td>1</td>\n",
       "    </tr>\n",
       "    <tr>\n",
       "      <th>2</th>\n",
       "      <td>B</td>\n",
       "      <td>A</td>\n",
       "      <td>1</td>\n",
       "    </tr>\n",
       "    <tr>\n",
       "      <th>3</th>\n",
       "      <td>B</td>\n",
       "      <td>C</td>\n",
       "      <td>1</td>\n",
       "    </tr>\n",
       "    <tr>\n",
       "      <th>4</th>\n",
       "      <td>C</td>\n",
       "      <td>A</td>\n",
       "      <td>1</td>\n",
       "    </tr>\n",
       "    <tr>\n",
       "      <th>5</th>\n",
       "      <td>C</td>\n",
       "      <td>B</td>\n",
       "      <td>1</td>\n",
       "    </tr>\n",
       "  </tbody>\n",
       "</table>\n",
       "</div>"
      ],
      "text/plain": [
       "  source target  0\n",
       "0      A      B  2\n",
       "1      A      C  1\n",
       "2      B      A  1\n",
       "3      B      C  1\n",
       "4      C      A  1\n",
       "5      C      B  1"
      ]
     },
     "execution_count": 24,
     "metadata": {},
     "output_type": "execute_result"
    }
   ],
   "source": [
    "toy_df.groupby(['source','target']).size().reset_index()"
   ]
  },
  {
   "cell_type": "code",
   "execution_count": 26,
   "id": "9501275f-8ba2-49a7-81af-a98ecc9f57ab",
   "metadata": {
    "execution": {
     "iopub.execute_input": "2022-05-22T16:06:13.648211Z",
     "iopub.status.busy": "2022-05-22T16:06:13.647695Z",
     "iopub.status.idle": "2022-05-22T16:06:13.659390Z",
     "shell.execute_reply": "2022-05-22T16:06:13.658340Z",
     "shell.execute_reply.started": "2022-05-22T16:06:13.648160Z"
    },
    "tags": []
   },
   "outputs": [],
   "source": [
    "new_data.insert(1, \"Type\", \"directed\")"
   ]
  },
  {
   "cell_type": "code",
   "execution_count": 28,
   "id": "3489fb71-78e8-432a-9938-675f4810043d",
   "metadata": {
    "execution": {
     "iopub.execute_input": "2022-05-22T16:06:18.309614Z",
     "iopub.status.busy": "2022-05-22T16:06:18.309106Z",
     "iopub.status.idle": "2022-05-22T16:06:18.324649Z",
     "shell.execute_reply": "2022-05-22T16:06:18.323890Z",
     "shell.execute_reply.started": "2022-05-22T16:06:18.309563Z"
    },
    "tags": []
   },
   "outputs": [
    {
     "data": {
      "text/html": [
       "<div>\n",
       "<style scoped>\n",
       "    .dataframe tbody tr th:only-of-type {\n",
       "        vertical-align: middle;\n",
       "    }\n",
       "\n",
       "    .dataframe tbody tr th {\n",
       "        vertical-align: top;\n",
       "    }\n",
       "\n",
       "    .dataframe thead th {\n",
       "        text-align: right;\n",
       "    }\n",
       "</style>\n",
       "<table border=\"1\" class=\"dataframe\">\n",
       "  <thead>\n",
       "    <tr style=\"text-align: right;\">\n",
       "      <th></th>\n",
       "      <th>Source</th>\n",
       "      <th>Type</th>\n",
       "      <th>Target</th>\n",
       "      <th>Weights</th>\n",
       "    </tr>\n",
       "  </thead>\n",
       "  <tbody>\n",
       "    <tr>\n",
       "      <th>0</th>\n",
       "      <td>1001</td>\n",
       "      <td>directed</td>\n",
       "      <td>9212308</td>\n",
       "      <td>1</td>\n",
       "    </tr>\n",
       "    <tr>\n",
       "      <th>1</th>\n",
       "      <td>9701370</td>\n",
       "      <td>directed</td>\n",
       "      <td>9607362</td>\n",
       "      <td>1</td>\n",
       "    </tr>\n",
       "    <tr>\n",
       "      <th>2</th>\n",
       "      <td>9701371</td>\n",
       "      <td>directed</td>\n",
       "      <td>9606390</td>\n",
       "      <td>1</td>\n",
       "    </tr>\n",
       "    <tr>\n",
       "      <th>3</th>\n",
       "      <td>9701371</td>\n",
       "      <td>directed</td>\n",
       "      <td>9605411</td>\n",
       "      <td>1</td>\n",
       "    </tr>\n",
       "    <tr>\n",
       "      <th>4</th>\n",
       "      <td>9701371</td>\n",
       "      <td>directed</td>\n",
       "      <td>9510449</td>\n",
       "      <td>1</td>\n",
       "    </tr>\n",
       "  </tbody>\n",
       "</table>\n",
       "</div>"
      ],
      "text/plain": [
       "    Source      Type   Target  Weights\n",
       "0     1001  directed  9212308        1\n",
       "1  9701370  directed  9607362        1\n",
       "2  9701371  directed  9606390        1\n",
       "3  9701371  directed  9605411        1\n",
       "4  9701371  directed  9510449        1"
      ]
     },
     "execution_count": 28,
     "metadata": {},
     "output_type": "execute_result"
    }
   ],
   "source": [
    "new_data.head()"
   ]
  },
  {
   "cell_type": "code",
   "execution_count": 29,
   "id": "5529b94d-f872-4eff-83de-009fae2a82c2",
   "metadata": {
    "execution": {
     "iopub.execute_input": "2022-05-22T16:06:41.577776Z",
     "iopub.status.busy": "2022-05-22T16:06:41.577270Z",
     "iopub.status.idle": "2022-05-22T16:06:41.585509Z",
     "shell.execute_reply": "2022-05-22T16:06:41.583948Z",
     "shell.execute_reply.started": "2022-05-22T16:06:41.577724Z"
    }
   },
   "outputs": [],
   "source": [
    "subset_data = new_data[:1800]"
   ]
  },
  {
   "cell_type": "markdown",
   "id": "2474f474-12e9-4dc1-a324-bbcb84e66cf0",
   "metadata": {},
   "source": [
    "Making a graph now I guess"
   ]
  },
  {
   "cell_type": "code",
   "execution_count": 35,
   "id": "3716fec5-3593-4c73-8464-2857b244dec3",
   "metadata": {
    "execution": {
     "iopub.execute_input": "2022-05-22T16:07:37.905698Z",
     "iopub.status.busy": "2022-05-22T16:07:37.905187Z",
     "iopub.status.idle": "2022-05-22T16:07:37.921511Z",
     "shell.execute_reply": "2022-05-22T16:07:37.920212Z",
     "shell.execute_reply.started": "2022-05-22T16:07:37.905646Z"
    },
    "tags": []
   },
   "outputs": [],
   "source": [
    "# G = nx.from_pandas_edgelist(subset_data, \"Source\", \"Target\", [\"Weights\"])\n",
    "G = nx.from_pandas_edgelist(subset_data, source='Source',target='Target', edge_attr=None, create_using=nx.DiGraph())"
   ]
  },
  {
   "cell_type": "code",
   "execution_count": 36,
   "id": "47a47bfc-5b77-428d-8da5-fb2dbf03e361",
   "metadata": {
    "execution": {
     "iopub.execute_input": "2022-05-22T16:07:39.577702Z",
     "iopub.status.busy": "2022-05-22T16:07:39.577200Z",
     "iopub.status.idle": "2022-05-22T16:07:39.587822Z",
     "shell.execute_reply": "2022-05-22T16:07:39.586336Z",
     "shell.execute_reply.started": "2022-05-22T16:07:39.577652Z"
    },
    "tags": []
   },
   "outputs": [
    {
     "data": {
      "text/plain": [
       "True"
      ]
     },
     "execution_count": 36,
     "metadata": {},
     "output_type": "execute_result"
    }
   ],
   "source": [
    "nx.is_directed(G)"
   ]
  },
  {
   "cell_type": "code",
   "execution_count": 70,
   "id": "32f47817-f581-478b-9677-d483d5bd643c",
   "metadata": {
    "execution": {
     "iopub.execute_input": "2022-05-21T17:33:12.860351Z",
     "iopub.status.busy": "2022-05-21T17:33:12.859826Z",
     "iopub.status.idle": "2022-05-21T17:33:14.069542Z",
     "shell.execute_reply": "2022-05-21T17:33:14.068476Z",
     "shell.execute_reply.started": "2022-05-21T17:33:12.860302Z"
    },
    "tags": []
   },
   "outputs": [
    {
     "ename": "AttributeError",
     "evalue": "module 'scipy.sparse' has no attribute 'coo_array'",
     "output_type": "error",
     "traceback": [
      "\u001b[0;31m---------------------------------------------------------------------------\u001b[0m",
      "\u001b[0;31mAttributeError\u001b[0m                            Traceback (most recent call last)",
      "\u001b[0;32m/tmp/ipykernel_630/3797512245.py\u001b[0m in \u001b[0;36m<module>\u001b[0;34m\u001b[0m\n\u001b[0;32m----> 1\u001b[0;31m \u001b[0mpos\u001b[0m \u001b[0;34m=\u001b[0m \u001b[0mnx\u001b[0m\u001b[0;34m.\u001b[0m\u001b[0mspring_layout\u001b[0m\u001b[0;34m(\u001b[0m\u001b[0mG\u001b[0m\u001b[0;34m,\u001b[0m \u001b[0mseed\u001b[0m\u001b[0;34m=\u001b[0m\u001b[0;36m42\u001b[0m\u001b[0;34m)\u001b[0m\u001b[0;34m\u001b[0m\u001b[0;34m\u001b[0m\u001b[0m\n\u001b[0m\u001b[1;32m      2\u001b[0m \u001b[0;34m\u001b[0m\u001b[0m\n\u001b[1;32m      3\u001b[0m \u001b[0mnode_sizes\u001b[0m \u001b[0;34m=\u001b[0m \u001b[0;34m[\u001b[0m\u001b[0;36m3\u001b[0m \u001b[0;34m+\u001b[0m \u001b[0;36m10\u001b[0m \u001b[0;34m*\u001b[0m \u001b[0mi\u001b[0m \u001b[0;32mfor\u001b[0m \u001b[0mi\u001b[0m \u001b[0;32min\u001b[0m \u001b[0mrange\u001b[0m\u001b[0;34m(\u001b[0m\u001b[0mlen\u001b[0m\u001b[0;34m(\u001b[0m\u001b[0mG\u001b[0m\u001b[0;34m)\u001b[0m\u001b[0;34m)\u001b[0m\u001b[0;34m]\u001b[0m\u001b[0;34m\u001b[0m\u001b[0;34m\u001b[0m\u001b[0m\n\u001b[1;32m      4\u001b[0m \u001b[0mM\u001b[0m \u001b[0;34m=\u001b[0m \u001b[0mG\u001b[0m\u001b[0;34m.\u001b[0m\u001b[0mnumber_of_edges\u001b[0m\u001b[0;34m(\u001b[0m\u001b[0;34m)\u001b[0m\u001b[0;34m\u001b[0m\u001b[0;34m\u001b[0m\u001b[0m\n\u001b[1;32m      5\u001b[0m \u001b[0medge_colors\u001b[0m \u001b[0;34m=\u001b[0m \u001b[0mrange\u001b[0m\u001b[0;34m(\u001b[0m\u001b[0;36m2\u001b[0m\u001b[0;34m,\u001b[0m \u001b[0mM\u001b[0m \u001b[0;34m+\u001b[0m \u001b[0;36m2\u001b[0m\u001b[0;34m)\u001b[0m\u001b[0;34m\u001b[0m\u001b[0;34m\u001b[0m\u001b[0m\n",
      "\u001b[0;32m/opt/conda/lib/python3.9/site-packages/networkx/utils/decorators.py\u001b[0m in \u001b[0;36margmap_spring_layout_5\u001b[0;34m(G, k, pos, fixed, iterations, threshold, weight, scale, center, dim, seed)\u001b[0m\n\u001b[1;32m      2\u001b[0m \u001b[0;32mfrom\u001b[0m \u001b[0mos\u001b[0m\u001b[0;34m.\u001b[0m\u001b[0mpath\u001b[0m \u001b[0;32mimport\u001b[0m \u001b[0msplitext\u001b[0m\u001b[0;34m\u001b[0m\u001b[0;34m\u001b[0m\u001b[0m\n\u001b[1;32m      3\u001b[0m \u001b[0;32mfrom\u001b[0m \u001b[0mcontextlib\u001b[0m \u001b[0;32mimport\u001b[0m \u001b[0mcontextmanager\u001b[0m\u001b[0;34m\u001b[0m\u001b[0;34m\u001b[0m\u001b[0m\n\u001b[0;32m----> 4\u001b[0;31m \u001b[0;32mfrom\u001b[0m \u001b[0mpathlib\u001b[0m \u001b[0;32mimport\u001b[0m \u001b[0mPath\u001b[0m\u001b[0;34m\u001b[0m\u001b[0;34m\u001b[0m\u001b[0m\n\u001b[0m\u001b[1;32m      5\u001b[0m \u001b[0;34m\u001b[0m\u001b[0m\n\u001b[1;32m      6\u001b[0m \u001b[0;32mimport\u001b[0m \u001b[0mnetworkx\u001b[0m \u001b[0;32mas\u001b[0m \u001b[0mnx\u001b[0m\u001b[0;34m\u001b[0m\u001b[0;34m\u001b[0m\u001b[0m\n",
      "\u001b[0;32m/opt/conda/lib/python3.9/site-packages/networkx/drawing/layout.py\u001b[0m in \u001b[0;36mspring_layout\u001b[0;34m(G, k, pos, fixed, iterations, threshold, weight, scale, center, dim, seed)\u001b[0m\n\u001b[1;32m    474\u001b[0m         \u001b[0;32mif\u001b[0m \u001b[0mlen\u001b[0m\u001b[0;34m(\u001b[0m\u001b[0mG\u001b[0m\u001b[0;34m)\u001b[0m \u001b[0;34m<\u001b[0m \u001b[0;36m500\u001b[0m\u001b[0;34m:\u001b[0m  \u001b[0;31m# sparse solver for large graphs\u001b[0m\u001b[0;34m\u001b[0m\u001b[0;34m\u001b[0m\u001b[0m\n\u001b[1;32m    475\u001b[0m             \u001b[0;32mraise\u001b[0m \u001b[0mValueError\u001b[0m\u001b[0;34m\u001b[0m\u001b[0;34m\u001b[0m\u001b[0m\n\u001b[0;32m--> 476\u001b[0;31m         \u001b[0mA\u001b[0m \u001b[0;34m=\u001b[0m \u001b[0mnx\u001b[0m\u001b[0;34m.\u001b[0m\u001b[0mto_scipy_sparse_array\u001b[0m\u001b[0;34m(\u001b[0m\u001b[0mG\u001b[0m\u001b[0;34m,\u001b[0m \u001b[0mweight\u001b[0m\u001b[0;34m=\u001b[0m\u001b[0mweight\u001b[0m\u001b[0;34m,\u001b[0m \u001b[0mdtype\u001b[0m\u001b[0;34m=\u001b[0m\u001b[0;34m\"f\"\u001b[0m\u001b[0;34m)\u001b[0m\u001b[0;34m\u001b[0m\u001b[0;34m\u001b[0m\u001b[0m\n\u001b[0m\u001b[1;32m    477\u001b[0m         \u001b[0;32mif\u001b[0m \u001b[0mk\u001b[0m \u001b[0;32mis\u001b[0m \u001b[0;32mNone\u001b[0m \u001b[0;32mand\u001b[0m \u001b[0mfixed\u001b[0m \u001b[0;32mis\u001b[0m \u001b[0;32mnot\u001b[0m \u001b[0;32mNone\u001b[0m\u001b[0;34m:\u001b[0m\u001b[0;34m\u001b[0m\u001b[0;34m\u001b[0m\u001b[0m\n\u001b[1;32m    478\u001b[0m             \u001b[0;31m# We must adjust k by domain size for layouts not near 1x1\u001b[0m\u001b[0;34m\u001b[0m\u001b[0;34m\u001b[0m\u001b[0;34m\u001b[0m\u001b[0m\n",
      "\u001b[0;32m/opt/conda/lib/python3.9/site-packages/networkx/convert_matrix.py\u001b[0m in \u001b[0;36mto_scipy_sparse_array\u001b[0;34m(G, nodelist, dtype, weight, format)\u001b[0m\n\u001b[1;32m    905\u001b[0m \u001b[0;34m\u001b[0m\u001b[0m\n\u001b[1;32m    906\u001b[0m     \u001b[0;32mif\u001b[0m \u001b[0mG\u001b[0m\u001b[0;34m.\u001b[0m\u001b[0mis_directed\u001b[0m\u001b[0;34m(\u001b[0m\u001b[0;34m)\u001b[0m\u001b[0;34m:\u001b[0m\u001b[0;34m\u001b[0m\u001b[0;34m\u001b[0m\u001b[0m\n\u001b[0;32m--> 907\u001b[0;31m         \u001b[0mA\u001b[0m \u001b[0;34m=\u001b[0m \u001b[0msp\u001b[0m\u001b[0;34m.\u001b[0m\u001b[0msparse\u001b[0m\u001b[0;34m.\u001b[0m\u001b[0mcoo_array\u001b[0m\u001b[0;34m(\u001b[0m\u001b[0;34m(\u001b[0m\u001b[0mdata\u001b[0m\u001b[0;34m,\u001b[0m \u001b[0;34m(\u001b[0m\u001b[0mrow\u001b[0m\u001b[0;34m,\u001b[0m \u001b[0mcol\u001b[0m\u001b[0;34m)\u001b[0m\u001b[0;34m)\u001b[0m\u001b[0;34m,\u001b[0m \u001b[0mshape\u001b[0m\u001b[0;34m=\u001b[0m\u001b[0;34m(\u001b[0m\u001b[0mnlen\u001b[0m\u001b[0;34m,\u001b[0m \u001b[0mnlen\u001b[0m\u001b[0;34m)\u001b[0m\u001b[0;34m,\u001b[0m \u001b[0mdtype\u001b[0m\u001b[0;34m=\u001b[0m\u001b[0mdtype\u001b[0m\u001b[0;34m)\u001b[0m\u001b[0;34m\u001b[0m\u001b[0;34m\u001b[0m\u001b[0m\n\u001b[0m\u001b[1;32m    908\u001b[0m     \u001b[0;32melse\u001b[0m\u001b[0;34m:\u001b[0m\u001b[0;34m\u001b[0m\u001b[0;34m\u001b[0m\u001b[0m\n\u001b[1;32m    909\u001b[0m         \u001b[0;31m# symmetrize matrix\u001b[0m\u001b[0;34m\u001b[0m\u001b[0;34m\u001b[0m\u001b[0;34m\u001b[0m\u001b[0m\n",
      "\u001b[0;31mAttributeError\u001b[0m: module 'scipy.sparse' has no attribute 'coo_array'"
     ]
    }
   ],
   "source": [
    "pos = nx.spring_layout(G, seed=42)\n",
    "\n",
    "node_sizes = [3 + 10 * i for i in range(len(G))]\n",
    "M = G.number_of_edges()\n",
    "edge_colors = range(2, M + 2)\n",
    "edge_alphas = [(5 + i) / (M + 4) for i in range(M)]\n",
    "cmap = plt.cm.plasma\n",
    "\n",
    "nodes = nx.draw_networkx_nodes(G, pos, node_size=node_sizes, node_color=\"indigo\")\n",
    "edges = nx.draw_networkx_edges(\n",
    "    G,\n",
    "    pos,\n",
    "    node_size=node_sizes,\n",
    "    arrowstyle=\"->\",\n",
    "    arrowsize=10,\n",
    "    edge_color=edge_colors,\n",
    "    edge_cmap=cmap,\n",
    "    width=2,\n",
    ")"
   ]
  },
  {
   "cell_type": "code",
   "execution_count": 37,
   "id": "bb4929e9-f41a-4cb2-8477-381160fb7f3c",
   "metadata": {
    "execution": {
     "iopub.execute_input": "2022-05-22T16:07:47.669267Z",
     "iopub.status.busy": "2022-05-22T16:07:47.668726Z",
     "iopub.status.idle": "2022-05-22T16:07:47.714393Z",
     "shell.execute_reply": "2022-05-22T16:07:47.713114Z",
     "shell.execute_reply.started": "2022-05-22T16:07:47.669215Z"
    },
    "tags": []
   },
   "outputs": [
    {
     "ename": "AttributeError",
     "evalue": "module 'scipy.sparse' has no attribute 'coo_array'",
     "output_type": "error",
     "traceback": [
      "\u001b[0;31m---------------------------------------------------------------------------\u001b[0m",
      "\u001b[0;31mAttributeError\u001b[0m                            Traceback (most recent call last)",
      "\u001b[0;32m/tmp/ipykernel_630/2007094276.py\u001b[0m in \u001b[0;36m<module>\u001b[0;34m\u001b[0m\n\u001b[0;32m----> 1\u001b[0;31m \u001b[0mnx\u001b[0m\u001b[0;34m.\u001b[0m\u001b[0mdraw_networkx\u001b[0m\u001b[0;34m(\u001b[0m\u001b[0mG\u001b[0m\u001b[0;34m,\u001b[0m \u001b[0mwith_labels\u001b[0m\u001b[0;34m=\u001b[0m\u001b[0;32mTrue\u001b[0m\u001b[0;34m,\u001b[0m \u001b[0mnode_size\u001b[0m\u001b[0;34m=\u001b[0m\u001b[0;36m20\u001b[0m\u001b[0;34m,\u001b[0m \u001b[0mfont_size\u001b[0m\u001b[0;34m=\u001b[0m\u001b[0;36m10\u001b[0m\u001b[0;34m)\u001b[0m\u001b[0;34m\u001b[0m\u001b[0;34m\u001b[0m\u001b[0m\n\u001b[0m",
      "\u001b[0;32m/opt/conda/lib/python3.9/site-packages/networkx/drawing/nx_pylab.py\u001b[0m in \u001b[0;36mdraw_networkx\u001b[0;34m(G, pos, arrows, with_labels, **kwds)\u001b[0m\n\u001b[1;32m    331\u001b[0m \u001b[0;34m\u001b[0m\u001b[0m\n\u001b[1;32m    332\u001b[0m     \u001b[0;32mif\u001b[0m \u001b[0mpos\u001b[0m \u001b[0;32mis\u001b[0m \u001b[0;32mNone\u001b[0m\u001b[0;34m:\u001b[0m\u001b[0;34m\u001b[0m\u001b[0;34m\u001b[0m\u001b[0m\n\u001b[0;32m--> 333\u001b[0;31m         \u001b[0mpos\u001b[0m \u001b[0;34m=\u001b[0m \u001b[0mnx\u001b[0m\u001b[0;34m.\u001b[0m\u001b[0mdrawing\u001b[0m\u001b[0;34m.\u001b[0m\u001b[0mspring_layout\u001b[0m\u001b[0;34m(\u001b[0m\u001b[0mG\u001b[0m\u001b[0;34m)\u001b[0m  \u001b[0;31m# default to spring layout\u001b[0m\u001b[0;34m\u001b[0m\u001b[0;34m\u001b[0m\u001b[0m\n\u001b[0m\u001b[1;32m    334\u001b[0m \u001b[0;34m\u001b[0m\u001b[0m\n\u001b[1;32m    335\u001b[0m     \u001b[0mdraw_networkx_nodes\u001b[0m\u001b[0;34m(\u001b[0m\u001b[0mG\u001b[0m\u001b[0;34m,\u001b[0m \u001b[0mpos\u001b[0m\u001b[0;34m,\u001b[0m \u001b[0;34m**\u001b[0m\u001b[0mnode_kwds\u001b[0m\u001b[0;34m)\u001b[0m\u001b[0;34m\u001b[0m\u001b[0;34m\u001b[0m\u001b[0m\n",
      "\u001b[0;32m/opt/conda/lib/python3.9/site-packages/networkx/utils/decorators.py\u001b[0m in \u001b[0;36margmap_spring_layout_5\u001b[0;34m(G, k, pos, fixed, iterations, threshold, weight, scale, center, dim, seed)\u001b[0m\n\u001b[1;32m      2\u001b[0m \u001b[0;32mfrom\u001b[0m \u001b[0mos\u001b[0m\u001b[0;34m.\u001b[0m\u001b[0mpath\u001b[0m \u001b[0;32mimport\u001b[0m \u001b[0msplitext\u001b[0m\u001b[0;34m\u001b[0m\u001b[0;34m\u001b[0m\u001b[0m\n\u001b[1;32m      3\u001b[0m \u001b[0;32mfrom\u001b[0m \u001b[0mcontextlib\u001b[0m \u001b[0;32mimport\u001b[0m \u001b[0mcontextmanager\u001b[0m\u001b[0;34m\u001b[0m\u001b[0;34m\u001b[0m\u001b[0m\n\u001b[0;32m----> 4\u001b[0;31m \u001b[0;32mfrom\u001b[0m \u001b[0mpathlib\u001b[0m \u001b[0;32mimport\u001b[0m \u001b[0mPath\u001b[0m\u001b[0;34m\u001b[0m\u001b[0;34m\u001b[0m\u001b[0m\n\u001b[0m\u001b[1;32m      5\u001b[0m \u001b[0;34m\u001b[0m\u001b[0m\n\u001b[1;32m      6\u001b[0m \u001b[0;32mimport\u001b[0m \u001b[0mnetworkx\u001b[0m \u001b[0;32mas\u001b[0m \u001b[0mnx\u001b[0m\u001b[0;34m\u001b[0m\u001b[0;34m\u001b[0m\u001b[0m\n",
      "\u001b[0;32m/opt/conda/lib/python3.9/site-packages/networkx/drawing/layout.py\u001b[0m in \u001b[0;36mspring_layout\u001b[0;34m(G, k, pos, fixed, iterations, threshold, weight, scale, center, dim, seed)\u001b[0m\n\u001b[1;32m    474\u001b[0m         \u001b[0;32mif\u001b[0m \u001b[0mlen\u001b[0m\u001b[0;34m(\u001b[0m\u001b[0mG\u001b[0m\u001b[0;34m)\u001b[0m \u001b[0;34m<\u001b[0m \u001b[0;36m500\u001b[0m\u001b[0;34m:\u001b[0m  \u001b[0;31m# sparse solver for large graphs\u001b[0m\u001b[0;34m\u001b[0m\u001b[0;34m\u001b[0m\u001b[0m\n\u001b[1;32m    475\u001b[0m             \u001b[0;32mraise\u001b[0m \u001b[0mValueError\u001b[0m\u001b[0;34m\u001b[0m\u001b[0;34m\u001b[0m\u001b[0m\n\u001b[0;32m--> 476\u001b[0;31m         \u001b[0mA\u001b[0m \u001b[0;34m=\u001b[0m \u001b[0mnx\u001b[0m\u001b[0;34m.\u001b[0m\u001b[0mto_scipy_sparse_array\u001b[0m\u001b[0;34m(\u001b[0m\u001b[0mG\u001b[0m\u001b[0;34m,\u001b[0m \u001b[0mweight\u001b[0m\u001b[0;34m=\u001b[0m\u001b[0mweight\u001b[0m\u001b[0;34m,\u001b[0m \u001b[0mdtype\u001b[0m\u001b[0;34m=\u001b[0m\u001b[0;34m\"f\"\u001b[0m\u001b[0;34m)\u001b[0m\u001b[0;34m\u001b[0m\u001b[0;34m\u001b[0m\u001b[0m\n\u001b[0m\u001b[1;32m    477\u001b[0m         \u001b[0;32mif\u001b[0m \u001b[0mk\u001b[0m \u001b[0;32mis\u001b[0m \u001b[0;32mNone\u001b[0m \u001b[0;32mand\u001b[0m \u001b[0mfixed\u001b[0m \u001b[0;32mis\u001b[0m \u001b[0;32mnot\u001b[0m \u001b[0;32mNone\u001b[0m\u001b[0;34m:\u001b[0m\u001b[0;34m\u001b[0m\u001b[0;34m\u001b[0m\u001b[0m\n\u001b[1;32m    478\u001b[0m             \u001b[0;31m# We must adjust k by domain size for layouts not near 1x1\u001b[0m\u001b[0;34m\u001b[0m\u001b[0;34m\u001b[0m\u001b[0;34m\u001b[0m\u001b[0m\n",
      "\u001b[0;32m/opt/conda/lib/python3.9/site-packages/networkx/convert_matrix.py\u001b[0m in \u001b[0;36mto_scipy_sparse_array\u001b[0;34m(G, nodelist, dtype, weight, format)\u001b[0m\n\u001b[1;32m    905\u001b[0m \u001b[0;34m\u001b[0m\u001b[0m\n\u001b[1;32m    906\u001b[0m     \u001b[0;32mif\u001b[0m \u001b[0mG\u001b[0m\u001b[0;34m.\u001b[0m\u001b[0mis_directed\u001b[0m\u001b[0;34m(\u001b[0m\u001b[0;34m)\u001b[0m\u001b[0;34m:\u001b[0m\u001b[0;34m\u001b[0m\u001b[0;34m\u001b[0m\u001b[0m\n\u001b[0;32m--> 907\u001b[0;31m         \u001b[0mA\u001b[0m \u001b[0;34m=\u001b[0m \u001b[0msp\u001b[0m\u001b[0;34m.\u001b[0m\u001b[0msparse\u001b[0m\u001b[0;34m.\u001b[0m\u001b[0mcoo_array\u001b[0m\u001b[0;34m(\u001b[0m\u001b[0;34m(\u001b[0m\u001b[0mdata\u001b[0m\u001b[0;34m,\u001b[0m \u001b[0;34m(\u001b[0m\u001b[0mrow\u001b[0m\u001b[0;34m,\u001b[0m \u001b[0mcol\u001b[0m\u001b[0;34m)\u001b[0m\u001b[0;34m)\u001b[0m\u001b[0;34m,\u001b[0m \u001b[0mshape\u001b[0m\u001b[0;34m=\u001b[0m\u001b[0;34m(\u001b[0m\u001b[0mnlen\u001b[0m\u001b[0;34m,\u001b[0m \u001b[0mnlen\u001b[0m\u001b[0;34m)\u001b[0m\u001b[0;34m,\u001b[0m \u001b[0mdtype\u001b[0m\u001b[0;34m=\u001b[0m\u001b[0mdtype\u001b[0m\u001b[0;34m)\u001b[0m\u001b[0;34m\u001b[0m\u001b[0;34m\u001b[0m\u001b[0m\n\u001b[0m\u001b[1;32m    908\u001b[0m     \u001b[0;32melse\u001b[0m\u001b[0;34m:\u001b[0m\u001b[0;34m\u001b[0m\u001b[0;34m\u001b[0m\u001b[0m\n\u001b[1;32m    909\u001b[0m         \u001b[0;31m# symmetrize matrix\u001b[0m\u001b[0;34m\u001b[0m\u001b[0;34m\u001b[0m\u001b[0;34m\u001b[0m\u001b[0m\n",
      "\u001b[0;31mAttributeError\u001b[0m: module 'scipy.sparse' has no attribute 'coo_array'"
     ]
    }
   ],
   "source": [
    "nx.draw_networkx(G, with_labels=True, node_size=20, font_size=10)"
   ]
  },
  {
   "cell_type": "code",
   "execution_count": 73,
   "id": "02e3a8b7-c3ef-426f-97a9-b02b9a9afbe7",
   "metadata": {
    "execution": {
     "iopub.execute_input": "2022-05-21T17:34:27.717622Z",
     "iopub.status.busy": "2022-05-21T17:34:27.716924Z",
     "iopub.status.idle": "2022-05-21T17:34:27.723499Z",
     "shell.execute_reply": "2022-05-21T17:34:27.722482Z",
     "shell.execute_reply.started": "2022-05-21T17:34:27.717550Z"
    },
    "tags": []
   },
   "outputs": [],
   "source": [
    "degrees = G.degree()"
   ]
  },
  {
   "cell_type": "code",
   "execution_count": 74,
   "id": "42233a9c-75cc-4c50-9483-eba994cd08f3",
   "metadata": {
    "execution": {
     "iopub.execute_input": "2022-05-21T17:35:12.925739Z",
     "iopub.status.busy": "2022-05-21T17:35:12.925288Z",
     "iopub.status.idle": "2022-05-21T17:35:12.973369Z",
     "shell.execute_reply": "2022-05-21T17:35:12.972781Z",
     "shell.execute_reply.started": "2022-05-21T17:35:12.925708Z"
    }
   },
   "outputs": [
    {
     "data": {
      "text/html": [
       "<div>\n",
       "<style scoped>\n",
       "    .dataframe tbody tr th:only-of-type {\n",
       "        vertical-align: middle;\n",
       "    }\n",
       "\n",
       "    .dataframe tbody tr th {\n",
       "        vertical-align: top;\n",
       "    }\n",
       "\n",
       "    .dataframe thead th {\n",
       "        text-align: right;\n",
       "    }\n",
       "</style>\n",
       "<table border=\"1\" class=\"dataframe\">\n",
       "  <thead>\n",
       "    <tr style=\"text-align: right;\">\n",
       "      <th></th>\n",
       "      <th>names</th>\n",
       "      <th>degrees</th>\n",
       "    </tr>\n",
       "  </thead>\n",
       "  <tbody>\n",
       "    <tr>\n",
       "      <th>0</th>\n",
       "      <td>1001</td>\n",
       "      <td>72</td>\n",
       "    </tr>\n",
       "    <tr>\n",
       "      <th>1</th>\n",
       "      <td>9212308</td>\n",
       "      <td>57</td>\n",
       "    </tr>\n",
       "    <tr>\n",
       "      <th>2</th>\n",
       "      <td>9701370</td>\n",
       "      <td>17</td>\n",
       "    </tr>\n",
       "    <tr>\n",
       "      <th>3</th>\n",
       "      <td>9607362</td>\n",
       "      <td>42</td>\n",
       "    </tr>\n",
       "    <tr>\n",
       "      <th>4</th>\n",
       "      <td>9701371</td>\n",
       "      <td>21</td>\n",
       "    </tr>\n",
       "  </tbody>\n",
       "</table>\n",
       "</div>"
      ],
      "text/plain": [
       "     names  degrees\n",
       "0     1001       72\n",
       "1  9212308       57\n",
       "2  9701370       17\n",
       "3  9607362       42\n",
       "4  9701371       21"
      ]
     },
     "execution_count": 74,
     "metadata": {},
     "output_type": "execute_result"
    }
   ],
   "source": [
    "degrees_df = pd.DataFrame(degrees, columns = [\"names\", \"degrees\"])\n",
    "degrees_df.head()"
   ]
  },
  {
   "cell_type": "code",
   "execution_count": null,
   "id": "7cbefa5c-8fbb-499b-a720-3d513e268a67",
   "metadata": {
    "execution": {
     "iopub.execute_input": "2022-05-21T17:36:22.683313Z",
     "iopub.status.busy": "2022-05-21T17:36:22.682671Z"
    }
   },
   "outputs": [],
   "source": [
    "# Betweenness centrality\n",
    "bc = nx.betweenness_centrality(G)\n",
    "betweenness_df = pd.DataFrame(bc.items())\n",
    "betweenness_df.head()"
   ]
  },
  {
   "cell_type": "code",
   "execution_count": 56,
   "id": "d1c2fd0d-cbad-4edb-8557-65f185dd2a4f",
   "metadata": {
    "execution": {
     "iopub.execute_input": "2022-05-21T17:06:49.737700Z",
     "iopub.status.busy": "2022-05-21T17:06:49.737411Z",
     "iopub.status.idle": "2022-05-21T17:06:49.744057Z",
     "shell.execute_reply": "2022-05-21T17:06:49.743286Z",
     "shell.execute_reply.started": "2022-05-21T17:06:49.737679Z"
    }
   },
   "outputs": [
    {
     "data": {
      "text/plain": [
       "numpy.int64"
      ]
     },
     "execution_count": 56,
     "metadata": {},
     "output_type": "execute_result"
    }
   ],
   "source": [
    "type(new_data[\"Source\"][0])"
   ]
  },
  {
   "cell_type": "code",
   "execution_count": 58,
   "id": "1729c659-6da4-405d-8335-2b6814e0f434",
   "metadata": {
    "execution": {
     "iopub.execute_input": "2022-05-21T17:11:06.306472Z",
     "iopub.status.busy": "2022-05-21T17:11:06.305851Z",
     "iopub.status.idle": "2022-05-21T17:11:06.827027Z",
     "shell.execute_reply": "2022-05-21T17:11:06.826353Z",
     "shell.execute_reply.started": "2022-05-21T17:11:06.306421Z"
    }
   },
   "outputs": [],
   "source": [
    "new_data['Source'] = new_data['Source'].astype(str)\n",
    "new_data['Target'] = new_data['Target'].astype(str)"
   ]
  },
  {
   "cell_type": "code",
   "execution_count": null,
   "id": "afa66111-164e-46a4-8d6d-5e194c98d0a8",
   "metadata": {},
   "outputs": [],
   "source": []
  }
 ],
 "metadata": {
  "kernelspec": {
   "display_name": "Python 3 ",
   "language": "python",
   "name": "python3"
  },
  "language_info": {
   "codemirror_mode": {
    "name": "ipython",
    "version": 3
   },
   "file_extension": ".py",
   "mimetype": "text/x-python",
   "name": "python",
   "nbconvert_exporter": "python",
   "pygments_lexer": "ipython3",
   "version": "3.9.6"
  }
 },
 "nbformat": 4,
 "nbformat_minor": 5
}
