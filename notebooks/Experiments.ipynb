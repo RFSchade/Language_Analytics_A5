{
 "cells": [
  {
   "cell_type": "markdown",
   "id": "0cd93ac4-5cd7-4a72-9453-fb01dce652d7",
   "metadata": {},
   "source": [
    "# Edgelist experiments "
   ]
  },
  {
   "cell_type": "markdown",
   "id": "dfd12d1b-9a1e-4083-8eef-1902cddbaa31",
   "metadata": {},
   "source": [
    "Import modules"
   ]
  },
  {
   "cell_type": "code",
   "execution_count": 1,
   "id": "482473cf-0d33-4b65-88ff-fdb23a59fabd",
   "metadata": {
    "execution": {
     "iopub.execute_input": "2022-05-27T17:26:20.048750Z",
     "iopub.status.busy": "2022-05-27T17:26:20.048257Z",
     "iopub.status.idle": "2022-05-27T17:26:22.958089Z",
     "shell.execute_reply": "2022-05-27T17:26:22.957256Z",
     "shell.execute_reply.started": "2022-05-27T17:26:20.048685Z"
    },
    "tags": []
   },
   "outputs": [
    {
     "name": "stderr",
     "output_type": "stream",
     "text": [
      "2022-05-27 19:26:20.485862: W tensorflow/stream_executor/platform/default/dso_loader.cc:64] Could not load dynamic library 'libcudart.so.11.0'; dlerror: libcudart.so.11.0: cannot open shared object file: No such file or directory\n",
      "2022-05-27 19:26:20.485895: I tensorflow/stream_executor/cuda/cudart_stub.cc:29] Ignore above cudart dlerror if you do not have a GPU set up on your machine.\n"
     ]
    }
   ],
   "source": [
    "# System tools\n",
    "import os\n",
    "\n",
    "# Data analysis\n",
    "import pandas as pd\n",
    "from collections import Counter\n",
    "from itertools import combinations \n",
    "from tqdm import tqdm\n",
    "\n",
    "# NLP\n",
    "import spacy\n",
    "nlp = spacy.load(\"en_core_web_sm\")\n",
    "\n",
    "# Network analysis tools\n",
    "import networkx as nx\n",
    "import matplotlib.pyplot as plt\n",
    "plt.rcParams[\"figure.figsize\"] = (20,20)\n",
    "\n",
    "# Regular expressions \n",
    "import re"
   ]
  },
  {
   "cell_type": "markdown",
   "id": "db7dc4b4-fe5a-4b1b-8033-af7ce0361fd2",
   "metadata": {},
   "source": [
    "Load data "
   ]
  },
  {
   "cell_type": "code",
   "execution_count": 2,
   "id": "571dd42a-51c4-4a93-b9b9-5ac2b726908f",
   "metadata": {
    "execution": {
     "iopub.execute_input": "2022-05-22T15:50:20.362650Z",
     "iopub.status.busy": "2022-05-22T15:50:20.362149Z",
     "iopub.status.idle": "2022-05-22T15:50:21.035657Z",
     "shell.execute_reply": "2022-05-22T15:50:21.034508Z",
     "shell.execute_reply.started": "2022-05-22T15:50:20.362601Z"
    },
    "tags": []
   },
   "outputs": [
    {
     "data": {
      "text/html": [
       "<div>\n",
       "<style scoped>\n",
       "    .dataframe tbody tr th:only-of-type {\n",
       "        vertical-align: middle;\n",
       "    }\n",
       "\n",
       "    .dataframe tbody tr th {\n",
       "        vertical-align: top;\n",
       "    }\n",
       "\n",
       "    .dataframe thead th {\n",
       "        text-align: right;\n",
       "    }\n",
       "</style>\n",
       "<table border=\"1\" class=\"dataframe\">\n",
       "  <thead>\n",
       "    <tr style=\"text-align: right;\">\n",
       "      <th></th>\n",
       "      <th>Unnamed: 0</th>\n",
       "      <th>title</th>\n",
       "      <th>text</th>\n",
       "      <th>label</th>\n",
       "    </tr>\n",
       "  </thead>\n",
       "  <tbody>\n",
       "    <tr>\n",
       "      <th>0</th>\n",
       "      <td>8476</td>\n",
       "      <td>You Can Smell Hillary’s Fear</td>\n",
       "      <td>Daniel Greenfield, a Shillman Journalism Fello...</td>\n",
       "      <td>FAKE</td>\n",
       "    </tr>\n",
       "    <tr>\n",
       "      <th>1</th>\n",
       "      <td>10294</td>\n",
       "      <td>Watch The Exact Moment Paul Ryan Committed Pol...</td>\n",
       "      <td>Google Pinterest Digg Linkedin Reddit Stumbleu...</td>\n",
       "      <td>FAKE</td>\n",
       "    </tr>\n",
       "    <tr>\n",
       "      <th>2</th>\n",
       "      <td>3608</td>\n",
       "      <td>Kerry to go to Paris in gesture of sympathy</td>\n",
       "      <td>U.S. Secretary of State John F. Kerry said Mon...</td>\n",
       "      <td>REAL</td>\n",
       "    </tr>\n",
       "    <tr>\n",
       "      <th>3</th>\n",
       "      <td>10142</td>\n",
       "      <td>Bernie supporters on Twitter erupt in anger ag...</td>\n",
       "      <td>— Kaydee King (@KaydeeKing) November 9, 2016 T...</td>\n",
       "      <td>FAKE</td>\n",
       "    </tr>\n",
       "    <tr>\n",
       "      <th>4</th>\n",
       "      <td>875</td>\n",
       "      <td>The Battle of New York: Why This Primary Matters</td>\n",
       "      <td>It's primary day in New York and front-runners...</td>\n",
       "      <td>REAL</td>\n",
       "    </tr>\n",
       "  </tbody>\n",
       "</table>\n",
       "</div>"
      ],
      "text/plain": [
       "   Unnamed: 0                                              title  \\\n",
       "0        8476                       You Can Smell Hillary’s Fear   \n",
       "1       10294  Watch The Exact Moment Paul Ryan Committed Pol...   \n",
       "2        3608        Kerry to go to Paris in gesture of sympathy   \n",
       "3       10142  Bernie supporters on Twitter erupt in anger ag...   \n",
       "4         875   The Battle of New York: Why This Primary Matters   \n",
       "\n",
       "                                                text label  \n",
       "0  Daniel Greenfield, a Shillman Journalism Fello...  FAKE  \n",
       "1  Google Pinterest Digg Linkedin Reddit Stumbleu...  FAKE  \n",
       "2  U.S. Secretary of State John F. Kerry said Mon...  REAL  \n",
       "3  — Kaydee King (@KaydeeKing) November 9, 2016 T...  FAKE  \n",
       "4  It's primary day in New York and front-runners...  REAL  "
      ]
     },
     "execution_count": 2,
     "metadata": {},
     "output_type": "execute_result"
    }
   ],
   "source": [
    "input_file = os.path.join(\"..\", \"..\", \"..\", \"CDS-LANG\", \"tabular_examples\", \"fake_or_real_news.csv\")\n",
    "data = pd.read_csv(input_file)\n",
    "data.head()"
   ]
  },
  {
   "cell_type": "markdown",
   "id": "71e04e8b-114b-4d1b-b246-a3d5a41869c8",
   "metadata": {},
   "source": [
    "Extract individuals"
   ]
  },
  {
   "cell_type": "code",
   "execution_count": 3,
   "id": "1c1ddf98-ddf5-472b-94b3-c9ba973c1657",
   "metadata": {
    "execution": {
     "iopub.execute_input": "2022-05-22T15:50:24.394906Z",
     "iopub.status.busy": "2022-05-22T15:50:24.394401Z",
     "iopub.status.idle": "2022-05-22T15:50:24.452574Z",
     "shell.execute_reply": "2022-05-22T15:50:24.451061Z",
     "shell.execute_reply.started": "2022-05-22T15:50:24.394854Z"
    },
    "tags": []
   },
   "outputs": [],
   "source": [
    "real_text = data[data[\"label\"] == \"REAL\"][\"text\"]"
   ]
  },
  {
   "cell_type": "code",
   "execution_count": 4,
   "id": "6d5bc4d6-4fe8-4b51-8be9-7430a378af8e",
   "metadata": {
    "execution": {
     "iopub.execute_input": "2022-05-22T15:50:28.392086Z",
     "iopub.status.busy": "2022-05-22T15:50:28.391560Z",
     "iopub.status.idle": "2022-05-22T15:54:28.851911Z",
     "shell.execute_reply": "2022-05-22T15:54:28.851249Z",
     "shell.execute_reply.started": "2022-05-22T15:50:28.392035Z"
    },
    "tags": []
   },
   "outputs": [
    {
     "name": "stderr",
     "output_type": "stream",
     "text": [
      "3171it [04:00, 13.19it/s]\n"
     ]
    }
   ],
   "source": [
    "# get list of lists of entities\n",
    "person_list = []\n",
    "\n",
    "# iterate over every text\n",
    "for doc in tqdm(nlp.pipe(real_text, batch_size=500)):\n",
    "    # temp list\n",
    "    tmp_list = []\n",
    "    # get named entities for each text\n",
    "    for entity in doc.ents:\n",
    "        # if it is a PERSON\n",
    "        if entity.label_ == \"PERSON\":\n",
    "            # append to temporary list\n",
    "            tmp_list.append(entity.text)\n",
    "    # add to output list\n",
    "    person_list.append(tmp_list)"
   ]
  },
  {
   "cell_type": "code",
   "execution_count": 5,
   "id": "b6c368bc-f010-4d19-afd3-0e7e7e873ae1",
   "metadata": {
    "execution": {
     "iopub.execute_input": "2022-05-22T15:55:13.174039Z",
     "iopub.status.busy": "2022-05-22T15:55:13.173512Z",
     "iopub.status.idle": "2022-05-22T15:55:13.183730Z",
     "shell.execute_reply": "2022-05-22T15:55:13.182703Z",
     "shell.execute_reply.started": "2022-05-22T15:55:13.173987Z"
    },
    "tags": []
   },
   "outputs": [
    {
     "data": {
      "text/plain": [
       "['Hillary Clinton',\n",
       " 'Donald Trump',\n",
       " 'Ted Cruz',\n",
       " 'Bernie Sanders',\n",
       " 'John Kasich',\n",
       " 'Clinton',\n",
       " 'Clinton',\n",
       " 'Cruz',\n",
       " 'Cruz',\n",
       " 'Cruz',\n",
       " 'Hillary',\n",
       " 'Hillary',\n",
       " 'Clinton']"
      ]
     },
     "execution_count": 5,
     "metadata": {},
     "output_type": "execute_result"
    }
   ],
   "source": [
    "person_list[1]"
   ]
  },
  {
   "cell_type": "markdown",
   "id": "682bc2ec-2b14-4c82-805c-bb17e82abdde",
   "metadata": {},
   "source": [
    "# Creating egdelist "
   ]
  },
  {
   "cell_type": "code",
   "execution_count": 6,
   "id": "a921d600-10de-4a2c-a10d-a890a30e5490",
   "metadata": {
    "execution": {
     "iopub.execute_input": "2022-05-22T15:55:16.702083Z",
     "iopub.status.busy": "2022-05-22T15:55:16.701549Z",
     "iopub.status.idle": "2022-05-22T15:55:16.713082Z",
     "shell.execute_reply": "2022-05-22T15:55:16.712278Z",
     "shell.execute_reply.started": "2022-05-22T15:55:16.702031Z"
    },
    "tags": []
   },
   "outputs": [],
   "source": [
    "# create output edgelist\n",
    "edgelist = []\n",
    "\n",
    "# go over each list or \"document\" one at a time\n",
    "for sublist in person_list[:10]:\n",
    "    # get pairings in this doc\n",
    "    edges = list(combinations(sublist, 2))\n",
    "    # for every possible edge\n",
    "    for edge in edges:\n",
    "        # if the two values are the same\n",
    "        if edge[0]==edge[1]:\n",
    "            # do nothing\n",
    "            pass\n",
    "        # otherwise append to output\n",
    "        else:\n",
    "            edgelist.append(edge)"
   ]
  },
  {
   "cell_type": "code",
   "execution_count": 7,
   "id": "f444bbff-c6da-4758-8614-3bc65607d936",
   "metadata": {
    "execution": {
     "iopub.execute_input": "2022-05-22T15:55:18.729077Z",
     "iopub.status.busy": "2022-05-22T15:55:18.728554Z",
     "iopub.status.idle": "2022-05-22T15:55:18.738080Z",
     "shell.execute_reply": "2022-05-22T15:55:18.737291Z",
     "shell.execute_reply.started": "2022-05-22T15:55:18.729026Z"
    },
    "tags": []
   },
   "outputs": [
    {
     "data": {
      "text/plain": [
       "[('John F. Kerry', 'Francois Hollande'),\n",
       " ('John F. Kerry', 'Benjamin Netanyahu'),\n",
       " ('John F. Kerry', 'Jane Hartley'),\n",
       " ('John F. Kerry', 'Victoria Nuland'),\n",
       " ('John F. Kerry', 'Eric H. Holder Jr.'),\n",
       " ('John F. Kerry', 'Narendra Modi'),\n",
       " ('John F. Kerry', 'Kerry'),\n",
       " ('Francois Hollande', 'Benjamin Netanyahu'),\n",
       " ('Francois Hollande', 'Jane Hartley'),\n",
       " ('Francois Hollande', 'Victoria Nuland')]"
      ]
     },
     "execution_count": 7,
     "metadata": {},
     "output_type": "execute_result"
    }
   ],
   "source": [
    "edgelist[:10]"
   ]
  },
  {
   "cell_type": "markdown",
   "id": "7a50a3c1-1ddf-4574-8ca6-40cf305b2825",
   "metadata": {},
   "source": [
    "Count occurances"
   ]
  },
  {
   "cell_type": "code",
   "execution_count": 8,
   "id": "eb3a7c9a-3469-43dc-bf9a-4ba5a2a670e9",
   "metadata": {
    "execution": {
     "iopub.execute_input": "2022-05-22T15:55:22.597405Z",
     "iopub.status.busy": "2022-05-22T15:55:22.596880Z",
     "iopub.status.idle": "2022-05-22T15:55:22.608194Z",
     "shell.execute_reply": "2022-05-22T15:55:22.607429Z",
     "shell.execute_reply.started": "2022-05-22T15:55:22.597355Z"
    },
    "tags": []
   },
   "outputs": [],
   "source": [
    "# create a weighted edgelist\n",
    "weighted_edges = []\n",
    "\n",
    "# use counter on edgelist\n",
    "for key, value in Counter(edgelist).items():\n",
    "    nodeA = key[0]\n",
    "    nodeB = key[1]\n",
    "    weight = value\n",
    "    # append to output\n",
    "    weighted_edges.append((nodeA, nodeB, weight))"
   ]
  },
  {
   "cell_type": "code",
   "execution_count": 9,
   "id": "a3168b72-6915-41f7-88cd-fb21b73dcc19",
   "metadata": {
    "execution": {
     "iopub.execute_input": "2022-05-22T15:55:25.447414Z",
     "iopub.status.busy": "2022-05-22T15:55:25.446890Z",
     "iopub.status.idle": "2022-05-22T15:55:25.456739Z",
     "shell.execute_reply": "2022-05-22T15:55:25.455869Z",
     "shell.execute_reply.started": "2022-05-22T15:55:25.447362Z"
    },
    "tags": []
   },
   "outputs": [
    {
     "data": {
      "text/plain": [
       "[('John F. Kerry', 'Francois Hollande', 1),\n",
       " ('John F. Kerry', 'Benjamin Netanyahu', 1),\n",
       " ('John F. Kerry', 'Jane Hartley', 1),\n",
       " ('John F. Kerry', 'Victoria Nuland', 1),\n",
       " ('John F. Kerry', 'Eric H. Holder Jr.', 1),\n",
       " ('John F. Kerry', 'Narendra Modi', 1),\n",
       " ('John F. Kerry', 'Kerry', 1),\n",
       " ('Francois Hollande', 'Benjamin Netanyahu', 1),\n",
       " ('Francois Hollande', 'Jane Hartley', 1),\n",
       " ('Francois Hollande', 'Victoria Nuland', 1)]"
      ]
     },
     "execution_count": 9,
     "metadata": {},
     "output_type": "execute_result"
    }
   ],
   "source": [
    "weighted_edges[:10]"
   ]
  },
  {
   "cell_type": "code",
   "execution_count": 10,
   "id": "956c46af-05eb-420a-83a9-d6919d3687bf",
   "metadata": {
    "execution": {
     "iopub.execute_input": "2022-05-22T15:55:28.820744Z",
     "iopub.status.busy": "2022-05-22T15:55:28.820233Z",
     "iopub.status.idle": "2022-05-22T15:55:28.831659Z",
     "shell.execute_reply": "2022-05-22T15:55:28.830056Z",
     "shell.execute_reply.started": "2022-05-22T15:55:28.820695Z"
    },
    "tags": []
   },
   "outputs": [],
   "source": [
    "edges_df = pd.DataFrame(weighted_edges, columns=[\"nodeA\", \"nodeB\", \"weight\"])"
   ]
  },
  {
   "cell_type": "code",
   "execution_count": 11,
   "id": "29b1b9db-4518-460e-877e-7225fbbe500d",
   "metadata": {
    "execution": {
     "iopub.execute_input": "2022-05-22T15:55:30.121283Z",
     "iopub.status.busy": "2022-05-22T15:55:30.120750Z",
     "iopub.status.idle": "2022-05-22T15:55:30.137906Z",
     "shell.execute_reply": "2022-05-22T15:55:30.137031Z",
     "shell.execute_reply.started": "2022-05-22T15:55:30.121232Z"
    },
    "tags": []
   },
   "outputs": [
    {
     "data": {
      "text/html": [
       "<div>\n",
       "<style scoped>\n",
       "    .dataframe tbody tr th:only-of-type {\n",
       "        vertical-align: middle;\n",
       "    }\n",
       "\n",
       "    .dataframe tbody tr th {\n",
       "        vertical-align: top;\n",
       "    }\n",
       "\n",
       "    .dataframe thead th {\n",
       "        text-align: right;\n",
       "    }\n",
       "</style>\n",
       "<table border=\"1\" class=\"dataframe\">\n",
       "  <thead>\n",
       "    <tr style=\"text-align: right;\">\n",
       "      <th></th>\n",
       "      <th>nodeA</th>\n",
       "      <th>nodeB</th>\n",
       "      <th>weight</th>\n",
       "    </tr>\n",
       "  </thead>\n",
       "  <tbody>\n",
       "    <tr>\n",
       "      <th>0</th>\n",
       "      <td>John F. Kerry</td>\n",
       "      <td>Francois Hollande</td>\n",
       "      <td>1</td>\n",
       "    </tr>\n",
       "    <tr>\n",
       "      <th>1</th>\n",
       "      <td>John F. Kerry</td>\n",
       "      <td>Benjamin Netanyahu</td>\n",
       "      <td>1</td>\n",
       "    </tr>\n",
       "    <tr>\n",
       "      <th>2</th>\n",
       "      <td>John F. Kerry</td>\n",
       "      <td>Jane Hartley</td>\n",
       "      <td>1</td>\n",
       "    </tr>\n",
       "    <tr>\n",
       "      <th>3</th>\n",
       "      <td>John F. Kerry</td>\n",
       "      <td>Victoria Nuland</td>\n",
       "      <td>1</td>\n",
       "    </tr>\n",
       "    <tr>\n",
       "      <th>4</th>\n",
       "      <td>John F. Kerry</td>\n",
       "      <td>Eric H. Holder Jr.</td>\n",
       "      <td>1</td>\n",
       "    </tr>\n",
       "  </tbody>\n",
       "</table>\n",
       "</div>"
      ],
      "text/plain": [
       "           nodeA               nodeB  weight\n",
       "0  John F. Kerry   Francois Hollande       1\n",
       "1  John F. Kerry  Benjamin Netanyahu       1\n",
       "2  John F. Kerry        Jane Hartley       1\n",
       "3  John F. Kerry     Victoria Nuland       1\n",
       "4  John F. Kerry  Eric H. Holder Jr.       1"
      ]
     },
     "execution_count": 11,
     "metadata": {},
     "output_type": "execute_result"
    }
   ],
   "source": [
    "edges_df.head()"
   ]
  },
  {
   "cell_type": "code",
   "execution_count": 12,
   "id": "3112fe40-791d-4f4b-b2ae-579ba80e703b",
   "metadata": {
    "execution": {
     "iopub.execute_input": "2022-05-22T15:55:44.493958Z",
     "iopub.status.busy": "2022-05-22T15:55:44.493443Z",
     "iopub.status.idle": "2022-05-22T15:55:44.502435Z",
     "shell.execute_reply": "2022-05-22T15:55:44.501438Z",
     "shell.execute_reply.started": "2022-05-22T15:55:44.493894Z"
    }
   },
   "outputs": [
    {
     "data": {
      "text/plain": [
       "1821"
      ]
     },
     "execution_count": 12,
     "metadata": {},
     "output_type": "execute_result"
    }
   ],
   "source": [
    "len(edges_df)"
   ]
  },
  {
   "cell_type": "code",
   "execution_count": null,
   "id": "a35728de-ae9a-4f25-b98f-bc50809fca66",
   "metadata": {},
   "outputs": [],
   "source": []
  }
 ],
 "metadata": {
  "kernelspec": {
   "display_name": "Python 3 ",
   "language": "python",
   "name": "python3"
  },
  "language_info": {
   "codemirror_mode": {
    "name": "ipython",
    "version": 3
   },
   "file_extension": ".py",
   "mimetype": "text/x-python",
   "name": "python",
   "nbconvert_exporter": "python",
   "pygments_lexer": "ipython3",
   "version": "3.9.6"
  }
 },
 "nbformat": 4,
 "nbformat_minor": 5
}
